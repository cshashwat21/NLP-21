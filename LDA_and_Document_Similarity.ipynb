{
 "cells": [
  {
   "cell_type": "code",
   "execution_count": null,
   "metadata": {
    "colab": {
     "base_uri": "https://localhost:8080/"
    },
    "id": "EKsAeS842KWL",
    "outputId": "ef4aded1-f560-4564-da26-581075e1eeeb"
   },
   "outputs": [
    {
     "name": "stdout",
     "output_type": "stream",
     "text": [
      "[nltk_data] Downloading package stopwords to /root/nltk_data...\n",
      "[nltk_data]   Package stopwords is already up-to-date!\n",
      "[nltk_data] Downloading package punkt to /root/nltk_data...\n",
      "[nltk_data]   Package punkt is already up-to-date!\n"
     ]
    },
    {
     "data": {
      "text/plain": [
       "True"
      ]
     },
     "execution_count": 33,
     "metadata": {},
     "output_type": "execute_result"
    }
   ],
   "source": [
    "# import dependencies\n",
    "%matplotlib inline\n",
    "import pandas as pd\n",
    "import numpy as np\n",
    "import nltk\n",
    "from nltk.corpus import stopwords\n",
    "import gensim\n",
    "from gensim.models import LdaModel\n",
    "from gensim import models, corpora, similarities\n",
    "import re\n",
    "from nltk.stem.porter import PorterStemmer\n",
    "import time\n",
    "from nltk import FreqDist\n",
    "from scipy.stats import entropy\n",
    "import matplotlib.pyplot as plt\n",
    "import seaborn as sns\n",
    "sns.set_style(\"darkgrid\")\n",
    "import nltk\n",
    "nltk.download('stopwords')\n",
    "nltk.download('punkt')"
   ]
  },
  {
   "cell_type": "code",
   "execution_count": null,
   "metadata": {
    "id": "HokWk-0O2TFl"
   },
   "outputs": [],
   "source": [
    "df = pd.read_csv('fake.csv', usecols = ['uuid','author','title','text','language','site_url','country'])"
   ]
  },
  {
   "cell_type": "code",
   "execution_count": null,
   "metadata": {
    "colab": {
     "base_uri": "https://localhost:8080/",
     "height": 337
    },
    "id": "jPA8xWA-5Bgf",
    "outputId": "6495ff99-bd72-4b1a-8949-d131b861620f"
   },
   "outputs": [
    {
     "data": {
      "text/html": [
       "\n",
       "  <div id=\"df-375679d2-1876-4b31-bb5f-f373ca253ea3\">\n",
       "    <div class=\"colab-df-container\">\n",
       "      <div>\n",
       "<style scoped>\n",
       "    .dataframe tbody tr th:only-of-type {\n",
       "        vertical-align: middle;\n",
       "    }\n",
       "\n",
       "    .dataframe tbody tr th {\n",
       "        vertical-align: top;\n",
       "    }\n",
       "\n",
       "    .dataframe thead th {\n",
       "        text-align: right;\n",
       "    }\n",
       "</style>\n",
       "<table border=\"1\" class=\"dataframe\">\n",
       "  <thead>\n",
       "    <tr style=\"text-align: right;\">\n",
       "      <th></th>\n",
       "      <th>uuid</th>\n",
       "      <th>author</th>\n",
       "      <th>title</th>\n",
       "      <th>text</th>\n",
       "      <th>language</th>\n",
       "      <th>site_url</th>\n",
       "      <th>country</th>\n",
       "    </tr>\n",
       "  </thead>\n",
       "  <tbody>\n",
       "    <tr>\n",
       "      <th>0</th>\n",
       "      <td>6a175f46bcd24d39b3e962ad0f29936721db70db</td>\n",
       "      <td>Barracuda Brigade</td>\n",
       "      <td>Muslims BUSTED: They Stole Millions In Gov’t B...</td>\n",
       "      <td>Print They should pay all the back all the mon...</td>\n",
       "      <td>english</td>\n",
       "      <td>100percentfedup.com</td>\n",
       "      <td>US</td>\n",
       "    </tr>\n",
       "    <tr>\n",
       "      <th>1</th>\n",
       "      <td>2bdc29d12605ef9cf3f09f9875040a7113be5d5b</td>\n",
       "      <td>reasoning with facts</td>\n",
       "      <td>Re: Why Did Attorney General Loretta Lynch Ple...</td>\n",
       "      <td>Why Did Attorney General Loretta Lynch Plead T...</td>\n",
       "      <td>english</td>\n",
       "      <td>100percentfedup.com</td>\n",
       "      <td>US</td>\n",
       "    </tr>\n",
       "    <tr>\n",
       "      <th>2</th>\n",
       "      <td>c70e149fdd53de5e61c29281100b9de0ed268bc3</td>\n",
       "      <td>Barracuda Brigade</td>\n",
       "      <td>BREAKING: Weiner Cooperating With FBI On Hilla...</td>\n",
       "      <td>Red State : \\nFox News Sunday reported this mo...</td>\n",
       "      <td>english</td>\n",
       "      <td>100percentfedup.com</td>\n",
       "      <td>US</td>\n",
       "    </tr>\n",
       "    <tr>\n",
       "      <th>3</th>\n",
       "      <td>7cf7c15731ac2a116dd7f629bd57ea468ed70284</td>\n",
       "      <td>Fed Up</td>\n",
       "      <td>PIN DROP SPEECH BY FATHER OF DAUGHTER Kidnappe...</td>\n",
       "      <td>Email Kayla Mueller was a prisoner and torture...</td>\n",
       "      <td>english</td>\n",
       "      <td>100percentfedup.com</td>\n",
       "      <td>US</td>\n",
       "    </tr>\n",
       "    <tr>\n",
       "      <th>4</th>\n",
       "      <td>0206b54719c7e241ffe0ad4315b808290dbe6c0f</td>\n",
       "      <td>Fed Up</td>\n",
       "      <td>FANTASTIC! TRUMP'S 7 POINT PLAN To Reform Heal...</td>\n",
       "      <td>Email HEALTHCARE REFORM TO MAKE AMERICA GREAT ...</td>\n",
       "      <td>english</td>\n",
       "      <td>100percentfedup.com</td>\n",
       "      <td>US</td>\n",
       "    </tr>\n",
       "  </tbody>\n",
       "</table>\n",
       "</div>\n",
       "      <button class=\"colab-df-convert\" onclick=\"convertToInteractive('df-375679d2-1876-4b31-bb5f-f373ca253ea3')\"\n",
       "              title=\"Convert this dataframe to an interactive table.\"\n",
       "              style=\"display:none;\">\n",
       "        \n",
       "  <svg xmlns=\"http://www.w3.org/2000/svg\" height=\"24px\"viewBox=\"0 0 24 24\"\n",
       "       width=\"24px\">\n",
       "    <path d=\"M0 0h24v24H0V0z\" fill=\"none\"/>\n",
       "    <path d=\"M18.56 5.44l.94 2.06.94-2.06 2.06-.94-2.06-.94-.94-2.06-.94 2.06-2.06.94zm-11 1L8.5 8.5l.94-2.06 2.06-.94-2.06-.94L8.5 2.5l-.94 2.06-2.06.94zm10 10l.94 2.06.94-2.06 2.06-.94-2.06-.94-.94-2.06-.94 2.06-2.06.94z\"/><path d=\"M17.41 7.96l-1.37-1.37c-.4-.4-.92-.59-1.43-.59-.52 0-1.04.2-1.43.59L10.3 9.45l-7.72 7.72c-.78.78-.78 2.05 0 2.83L4 21.41c.39.39.9.59 1.41.59.51 0 1.02-.2 1.41-.59l7.78-7.78 2.81-2.81c.8-.78.8-2.07 0-2.86zM5.41 20L4 18.59l7.72-7.72 1.47 1.35L5.41 20z\"/>\n",
       "  </svg>\n",
       "      </button>\n",
       "      \n",
       "  <style>\n",
       "    .colab-df-container {\n",
       "      display:flex;\n",
       "      flex-wrap:wrap;\n",
       "      gap: 12px;\n",
       "    }\n",
       "\n",
       "    .colab-df-convert {\n",
       "      background-color: #E8F0FE;\n",
       "      border: none;\n",
       "      border-radius: 50%;\n",
       "      cursor: pointer;\n",
       "      display: none;\n",
       "      fill: #1967D2;\n",
       "      height: 32px;\n",
       "      padding: 0 0 0 0;\n",
       "      width: 32px;\n",
       "    }\n",
       "\n",
       "    .colab-df-convert:hover {\n",
       "      background-color: #E2EBFA;\n",
       "      box-shadow: 0px 1px 2px rgba(60, 64, 67, 0.3), 0px 1px 3px 1px rgba(60, 64, 67, 0.15);\n",
       "      fill: #174EA6;\n",
       "    }\n",
       "\n",
       "    [theme=dark] .colab-df-convert {\n",
       "      background-color: #3B4455;\n",
       "      fill: #D2E3FC;\n",
       "    }\n",
       "\n",
       "    [theme=dark] .colab-df-convert:hover {\n",
       "      background-color: #434B5C;\n",
       "      box-shadow: 0px 1px 3px 1px rgba(0, 0, 0, 0.15);\n",
       "      filter: drop-shadow(0px 1px 2px rgba(0, 0, 0, 0.3));\n",
       "      fill: #FFFFFF;\n",
       "    }\n",
       "  </style>\n",
       "\n",
       "      <script>\n",
       "        const buttonEl =\n",
       "          document.querySelector('#df-375679d2-1876-4b31-bb5f-f373ca253ea3 button.colab-df-convert');\n",
       "        buttonEl.style.display =\n",
       "          google.colab.kernel.accessAllowed ? 'block' : 'none';\n",
       "\n",
       "        async function convertToInteractive(key) {\n",
       "          const element = document.querySelector('#df-375679d2-1876-4b31-bb5f-f373ca253ea3');\n",
       "          const dataTable =\n",
       "            await google.colab.kernel.invokeFunction('convertToInteractive',\n",
       "                                                     [key], {});\n",
       "          if (!dataTable) return;\n",
       "\n",
       "          const docLinkHtml = 'Like what you see? Visit the ' +\n",
       "            '<a target=\"_blank\" href=https://colab.research.google.com/notebooks/data_table.ipynb>data table notebook</a>'\n",
       "            + ' to learn more about interactive tables.';\n",
       "          element.innerHTML = '';\n",
       "          dataTable['output_type'] = 'display_data';\n",
       "          await google.colab.output.renderOutput(dataTable, element);\n",
       "          const docLink = document.createElement('div');\n",
       "          docLink.innerHTML = docLinkHtml;\n",
       "          element.appendChild(docLink);\n",
       "        }\n",
       "      </script>\n",
       "    </div>\n",
       "  </div>\n",
       "  "
      ],
      "text/plain": [
       "                                       uuid  ... country\n",
       "0  6a175f46bcd24d39b3e962ad0f29936721db70db  ...      US\n",
       "1  2bdc29d12605ef9cf3f09f9875040a7113be5d5b  ...      US\n",
       "2  c70e149fdd53de5e61c29281100b9de0ed268bc3  ...      US\n",
       "3  7cf7c15731ac2a116dd7f629bd57ea468ed70284  ...      US\n",
       "4  0206b54719c7e241ffe0ad4315b808290dbe6c0f  ...      US\n",
       "\n",
       "[5 rows x 7 columns]"
      ]
     },
     "execution_count": 36,
     "metadata": {},
     "output_type": "execute_result"
    }
   ],
   "source": [
    "df.head()"
   ]
  },
  {
   "cell_type": "code",
   "execution_count": null,
   "metadata": {
    "colab": {
     "base_uri": "https://localhost:8080/",
     "height": 337
    },
    "id": "jbuaSG9s54y9",
    "outputId": "c4d11eeb-f604-4644-ccf8-9a397bb2c42c"
   },
   "outputs": [
    {
     "data": {
      "text/html": [
       "\n",
       "  <div id=\"df-f07deb15-083c-4305-a643-0f6d33eb8a0d\">\n",
       "    <div class=\"colab-df-container\">\n",
       "      <div>\n",
       "<style scoped>\n",
       "    .dataframe tbody tr th:only-of-type {\n",
       "        vertical-align: middle;\n",
       "    }\n",
       "\n",
       "    .dataframe tbody tr th {\n",
       "        vertical-align: top;\n",
       "    }\n",
       "\n",
       "    .dataframe thead th {\n",
       "        text-align: right;\n",
       "    }\n",
       "</style>\n",
       "<table border=\"1\" class=\"dataframe\">\n",
       "  <thead>\n",
       "    <tr style=\"text-align: right;\">\n",
       "      <th></th>\n",
       "      <th>uuid</th>\n",
       "      <th>author</th>\n",
       "      <th>title</th>\n",
       "      <th>text</th>\n",
       "      <th>language</th>\n",
       "      <th>site_url</th>\n",
       "      <th>country</th>\n",
       "    </tr>\n",
       "  </thead>\n",
       "  <tbody>\n",
       "    <tr>\n",
       "      <th>0</th>\n",
       "      <td>fa90e56c54f70f8770a8dc9e0ebfd23d8e312bcc</td>\n",
       "      <td>Gilad Atzmon</td>\n",
       "      <td>Top five donors to Clinton campaign are Jewish</td>\n",
       "      <td>Behind the headlines - conspiracies, cover-ups...</td>\n",
       "      <td>english</td>\n",
       "      <td>thetruthseeker.co.uk</td>\n",
       "      <td>GB</td>\n",
       "    </tr>\n",
       "    <tr>\n",
       "      <th>1</th>\n",
       "      <td>504cda23ef42182dfee390c44dab2c5023e516b8</td>\n",
       "      <td>NaN</td>\n",
       "      <td>Genetically Modified Crops in U.S. Fail to Del...</td>\n",
       "      <td>Trending Articles: Trending Articles: Genetica...</td>\n",
       "      <td>english</td>\n",
       "      <td>blacklistednews.com</td>\n",
       "      <td>US</td>\n",
       "    </tr>\n",
       "    <tr>\n",
       "      <th>2</th>\n",
       "      <td>66bad4341fe2bc84905daaae1e3bd951d0e4d48c</td>\n",
       "      <td>Andrew Napolitano</td>\n",
       "      <td>The Forgotten Man</td>\n",
       "      <td>Here's something interesting from The Unz Revi...</td>\n",
       "      <td>english</td>\n",
       "      <td>unz.com</td>\n",
       "      <td>US</td>\n",
       "    </tr>\n",
       "    <tr>\n",
       "      <th>3</th>\n",
       "      <td>6ed01d8632b965e163276ac6736f20eeffcf9bba</td>\n",
       "      <td>Contributing Author</td>\n",
       "      <td>Trump May Or May Not Be Aware Of The Plan: “A ...</td>\n",
       "      <td>This article first appeared at Personal Libert...</td>\n",
       "      <td>english</td>\n",
       "      <td>shtfplan.com</td>\n",
       "      <td>US</td>\n",
       "    </tr>\n",
       "    <tr>\n",
       "      <th>4</th>\n",
       "      <td>db7b7a743808f8f13116282adbe307185ae617b4</td>\n",
       "      <td>True Activist</td>\n",
       "      <td>20 Before &amp; After Photos That Reveal The Effec...</td>\n",
       "      <td>Drinking alcohol might seem like the normal or...</td>\n",
       "      <td>english</td>\n",
       "      <td>trueactivist.com</td>\n",
       "      <td>US</td>\n",
       "    </tr>\n",
       "  </tbody>\n",
       "</table>\n",
       "</div>\n",
       "      <button class=\"colab-df-convert\" onclick=\"convertToInteractive('df-f07deb15-083c-4305-a643-0f6d33eb8a0d')\"\n",
       "              title=\"Convert this dataframe to an interactive table.\"\n",
       "              style=\"display:none;\">\n",
       "        \n",
       "  <svg xmlns=\"http://www.w3.org/2000/svg\" height=\"24px\"viewBox=\"0 0 24 24\"\n",
       "       width=\"24px\">\n",
       "    <path d=\"M0 0h24v24H0V0z\" fill=\"none\"/>\n",
       "    <path d=\"M18.56 5.44l.94 2.06.94-2.06 2.06-.94-2.06-.94-.94-2.06-.94 2.06-2.06.94zm-11 1L8.5 8.5l.94-2.06 2.06-.94-2.06-.94L8.5 2.5l-.94 2.06-2.06.94zm10 10l.94 2.06.94-2.06 2.06-.94-2.06-.94-.94-2.06-.94 2.06-2.06.94z\"/><path d=\"M17.41 7.96l-1.37-1.37c-.4-.4-.92-.59-1.43-.59-.52 0-1.04.2-1.43.59L10.3 9.45l-7.72 7.72c-.78.78-.78 2.05 0 2.83L4 21.41c.39.39.9.59 1.41.59.51 0 1.02-.2 1.41-.59l7.78-7.78 2.81-2.81c.8-.78.8-2.07 0-2.86zM5.41 20L4 18.59l7.72-7.72 1.47 1.35L5.41 20z\"/>\n",
       "  </svg>\n",
       "      </button>\n",
       "      \n",
       "  <style>\n",
       "    .colab-df-container {\n",
       "      display:flex;\n",
       "      flex-wrap:wrap;\n",
       "      gap: 12px;\n",
       "    }\n",
       "\n",
       "    .colab-df-convert {\n",
       "      background-color: #E8F0FE;\n",
       "      border: none;\n",
       "      border-radius: 50%;\n",
       "      cursor: pointer;\n",
       "      display: none;\n",
       "      fill: #1967D2;\n",
       "      height: 32px;\n",
       "      padding: 0 0 0 0;\n",
       "      width: 32px;\n",
       "    }\n",
       "\n",
       "    .colab-df-convert:hover {\n",
       "      background-color: #E2EBFA;\n",
       "      box-shadow: 0px 1px 2px rgba(60, 64, 67, 0.3), 0px 1px 3px 1px rgba(60, 64, 67, 0.15);\n",
       "      fill: #174EA6;\n",
       "    }\n",
       "\n",
       "    [theme=dark] .colab-df-convert {\n",
       "      background-color: #3B4455;\n",
       "      fill: #D2E3FC;\n",
       "    }\n",
       "\n",
       "    [theme=dark] .colab-df-convert:hover {\n",
       "      background-color: #434B5C;\n",
       "      box-shadow: 0px 1px 3px 1px rgba(0, 0, 0, 0.15);\n",
       "      filter: drop-shadow(0px 1px 2px rgba(0, 0, 0, 0.3));\n",
       "      fill: #FFFFFF;\n",
       "    }\n",
       "  </style>\n",
       "\n",
       "      <script>\n",
       "        const buttonEl =\n",
       "          document.querySelector('#df-f07deb15-083c-4305-a643-0f6d33eb8a0d button.colab-df-convert');\n",
       "        buttonEl.style.display =\n",
       "          google.colab.kernel.accessAllowed ? 'block' : 'none';\n",
       "\n",
       "        async function convertToInteractive(key) {\n",
       "          const element = document.querySelector('#df-f07deb15-083c-4305-a643-0f6d33eb8a0d');\n",
       "          const dataTable =\n",
       "            await google.colab.kernel.invokeFunction('convertToInteractive',\n",
       "                                                     [key], {});\n",
       "          if (!dataTable) return;\n",
       "\n",
       "          const docLinkHtml = 'Like what you see? Visit the ' +\n",
       "            '<a target=\"_blank\" href=https://colab.research.google.com/notebooks/data_table.ipynb>data table notebook</a>'\n",
       "            + ' to learn more about interactive tables.';\n",
       "          element.innerHTML = '';\n",
       "          dataTable['output_type'] = 'display_data';\n",
       "          await google.colab.output.renderOutput(dataTable, element);\n",
       "          const docLink = document.createElement('div');\n",
       "          docLink.innerHTML = docLinkHtml;\n",
       "          element.appendChild(docLink);\n",
       "        }\n",
       "      </script>\n",
       "    </div>\n",
       "  </div>\n",
       "  "
      ],
      "text/plain": [
       "                                       uuid  ... country\n",
       "0  fa90e56c54f70f8770a8dc9e0ebfd23d8e312bcc  ...      GB\n",
       "1  504cda23ef42182dfee390c44dab2c5023e516b8  ...      US\n",
       "2  66bad4341fe2bc84905daaae1e3bd951d0e4d48c  ...      US\n",
       "3  6ed01d8632b965e163276ac6736f20eeffcf9bba  ...      US\n",
       "4  db7b7a743808f8f13116282adbe307185ae617b4  ...      US\n",
       "\n",
       "[5 rows x 7 columns]"
      ]
     },
     "execution_count": 37,
     "metadata": {},
     "output_type": "execute_result"
    }
   ],
   "source": [
    "df = df[df.language == 'english']\n",
    "df = df[df['text'].map(type) == str]\n",
    "df['title'].fillna(value=\"\", inplace=True)\n",
    "df.dropna(axis=0, inplace=True, subset=['text'])\n",
    "# shuffle the data\n",
    "df = df.sample(frac=1.0)\n",
    "df.reset_index(drop=True,inplace=True)\n",
    "df.head()"
   ]
  },
  {
   "cell_type": "code",
   "execution_count": null,
   "metadata": {
    "id": "Hxj3XOT_9wo-"
   },
   "outputs": [],
   "source": [
    "def initial_clean(text):\n",
    "    \"\"\"\n",
    "    Function to clean text of websites, email addresess and any punctuation\n",
    "    We also lower case the text\n",
    "    \"\"\"\n",
    "    text = re.sub(\"((\\S+)?(http(s)?)(\\S+))|((\\S+)?(www)(\\S+))|((\\S+)?(\\@)(\\S+)?)\", \" \", text)\n",
    "    text = re.sub(\"[^a-zA-Z ]\", \"\", text)\n",
    "    text = text.lower() # lower case the text\n",
    "    text = nltk.word_tokenize(text)\n",
    "    return text\n",
    "\n",
    "stop_words = stopwords.words('english')\n",
    "def remove_stop_words(text):\n",
    "    \"\"\"\n",
    "    Function that removes all stopwords from text\n",
    "    \"\"\"\n",
    "    return [word for word in text if word not in stop_words]\n",
    "\n",
    "stemmer = PorterStemmer()\n",
    "def stem_words(text):\n",
    "    \"\"\"\n",
    "    Function to stem words, so plural and singular are treated the same\n",
    "    \"\"\"\n",
    "    try:\n",
    "        text = [stemmer.stem(word) for word in text]\n",
    "        text = [word for word in text if len(word) > 1] # make sure we have no 1 letter words\n",
    "    except IndexError: # the word \"oed\" broke this, so needed try except\n",
    "        pass\n",
    "    return text\n",
    "\n",
    "def apply_all(text):\n",
    "    \"\"\"\n",
    "    This function applies all the functions above into one\n",
    "    \"\"\"\n",
    "    return stem_words(remove_stop_words(initial_clean(text)))"
   ]
  },
  {
   "cell_type": "code",
   "execution_count": null,
   "metadata": {
    "colab": {
     "base_uri": "https://localhost:8080/"
    },
    "id": "n4BqXY0VAHM9",
    "outputId": "5a44c77f-0be3-4e28-f9a9-d4672718db3e"
   },
   "outputs": [
    {
     "name": "stdout",
     "output_type": "stream",
     "text": [
      "Time to clean and tokenize 12357 articles: 3.1582104484240214 min\n"
     ]
    }
   ],
   "source": [
    "# clean text and title and create new column \"tokenized\"\n",
    "t1 = time.time()\n",
    "df['tokenized'] = df['text'].apply(apply_all) + df['title'].apply(apply_all)\n",
    "t2 = time.time()\n",
    "print(\"Time to clean and tokenize\", len(df), \"articles:\", (t2-t1)/60, \"min\")"
   ]
  },
  {
   "cell_type": "code",
   "execution_count": null,
   "metadata": {
    "colab": {
     "base_uri": "https://localhost:8080/"
    },
    "id": "feK7nzztAc3A",
    "outputId": "ba9d1a13-c294-4769-a662-340872afa1bc"
   },
   "outputs": [
    {
     "data": {
      "text/plain": [
       "0        [behind, headlin, conspiraci, coverup, ancient...\n",
       "1        [trend, articl, trend, articl, genet, modifi, ...\n",
       "2        [here, someth, interest, unz, review, recipi, ...\n",
       "3        [articl, first, appear, person, liberti, publi...\n",
       "4        [drink, alcohol, might, seem, like, normal, hi...\n",
       "                               ...                        \n",
       "12352    [novemb, fbi, clinton, foundat, investig, high...\n",
       "12353    [written, three, time, paul, ryan, presid, glo...\n",
       "12354    [yemen, photo, provid, media, bureau, oper, co...\n",
       "12355    [new, zealand, countri, entir, east, coast, ur...\n",
       "12356    [kidney, protect, liver, protect, tabl, reveal...\n",
       "Name: tokenized, Length: 12357, dtype: object"
      ]
     },
     "execution_count": 40,
     "metadata": {},
     "output_type": "execute_result"
    }
   ],
   "source": [
    "df['tokenized']"
   ]
  },
  {
   "cell_type": "code",
   "execution_count": null,
   "metadata": {
    "colab": {
     "base_uri": "https://localhost:8080/"
    },
    "id": "OFNaxWYGBuBA",
    "outputId": "741a2d11-1884-4fa2-c300-7c269e47926c"
   },
   "outputs": [
    {
     "data": {
      "text/plain": [
       "96280"
      ]
     },
     "execution_count": 41,
     "metadata": {},
     "output_type": "execute_result"
    }
   ],
   "source": [
    "# first get a list of all words\n",
    "all_words = [word for item in list(df['tokenized']) for word in item]\n",
    "# use nltk fdist to get a frequency distribution of all words\n",
    "fdist = FreqDist(all_words)\n",
    "len(fdist) # number of unique words"
   ]
  },
  {
   "cell_type": "code",
   "execution_count": null,
   "metadata": {
    "colab": {
     "base_uri": "https://localhost:8080/"
    },
    "id": "zVkK4tjhRYSo",
    "outputId": "8ca79d26-81c7-4ee3-e3ec-c65089d90791"
   },
   "outputs": [
    {
     "data": {
      "text/plain": [
       "['behind',\n",
       " 'headlin',\n",
       " 'conspiraci',\n",
       " 'coverup',\n",
       " 'ancient',\n",
       " 'mysteri',\n",
       " 'real',\n",
       " 'news',\n",
       " 'perspect',\n",
       " 'wont',\n",
       " 'find',\n",
       " 'mainstream',\n",
       " 'media',\n",
       " 'brows',\n",
       " 'home',\n",
       " 'top',\n",
       " 'five',\n",
       " 'donor',\n",
       " 'clinton',\n",
       " 'campaign',\n",
       " 'jewish',\n",
       " 'essenti',\n",
       " 'read',\n",
       " 'anglosaxon',\n",
       " 'mission',\n",
       " 'part',\n",
       " 'ii',\n",
       " 'wmwadmin',\n",
       " 'march',\n",
       " 'former',\n",
       " 'citi',\n",
       " 'london',\n",
       " 'insid',\n",
       " 'reveal',\n",
       " 'depopul',\n",
       " 'program',\n",
       " 'would',\n",
       " 'begin',\n",
       " 'plan',\n",
       " 'war',\n",
       " 'israel',\n",
       " 'iran',\n",
       " 'importantli',\n",
       " 'goe',\n",
       " 'onto',\n",
       " 'describ',\n",
       " 'derail',\n",
       " 'plan',\n",
       " 'global',\n",
       " 'domin',\n",
       " 'come',\n",
       " 'clean',\n",
       " 'wmwadmin',\n",
       " 'april',\n",
       " 'chemtrail',\n",
       " 'product',\n",
       " 'conspiraci',\n",
       " 'theori',\n",
       " 'real',\n",
       " 'get',\n",
       " 'low',\n",
       " 'aircraft',\n",
       " 'mechan',\n",
       " 'done',\n",
       " 'investig',\n",
       " 'us',\n",
       " 'back',\n",
       " 'plan',\n",
       " 'launch',\n",
       " 'chemic',\n",
       " 'weapon',\n",
       " 'attack',\n",
       " 'syria',\n",
       " 'blame',\n",
       " 'assad',\n",
       " 'govt',\n",
       " 'report',\n",
       " 'wmwadmin',\n",
       " 'june',\n",
       " 'report',\n",
       " 'appear',\n",
       " 'januari',\n",
       " 'subsequ',\n",
       " 'remov',\n",
       " 'mail',\n",
       " 'websit',\n",
       " 'fortun',\n",
       " 'observ',\n",
       " 'copi',\n",
       " 'extract',\n",
       " 'repost',\n",
       " 'advent',\n",
       " 'antichrist',\n",
       " 'rixon',\n",
       " 'stewart',\n",
       " 'august',\n",
       " 'word',\n",
       " 'market',\n",
       " 'meltdown',\n",
       " 'may',\n",
       " 'assist',\n",
       " 'debut',\n",
       " 'truli',\n",
       " 'sinist',\n",
       " 'figur',\n",
       " 'anglosaxon',\n",
       " 'mission',\n",
       " 'part',\n",
       " 'wmwadmin',\n",
       " 'march',\n",
       " 'bill',\n",
       " 'ryan',\n",
       " 'talk',\n",
       " 'former',\n",
       " 'citi',\n",
       " 'london',\n",
       " 'insid',\n",
       " 'particip',\n",
       " 'meet',\n",
       " 'elit',\n",
       " 'plan',\n",
       " 'depopul',\n",
       " 'discuss',\n",
       " 'meet',\n",
       " 'took',\n",
       " 'place',\n",
       " 'also',\n",
       " 'discuss',\n",
       " 'plan',\n",
       " 'financi',\n",
       " 'collaps',\n",
       " 'dov',\n",
       " 'zakheim',\n",
       " 'conspiraci',\n",
       " 'wmwadmin',\n",
       " 'april',\n",
       " 'web',\n",
       " 'host',\n",
       " 'threaten',\n",
       " 'legal',\n",
       " 'action',\n",
       " 'lawyer',\n",
       " 'repres',\n",
       " 'none',\n",
       " 'dov',\n",
       " 'zakheim',\n",
       " 'claim',\n",
       " 'articl',\n",
       " 'defamatori',\n",
       " 'due',\n",
       " 'oversight',\n",
       " 'articl',\n",
       " 'fulli',\n",
       " 'remov',\n",
       " 'read',\n",
       " 'zakheim',\n",
       " 'get',\n",
       " 'us',\n",
       " 'shut',\n",
       " 'ladi',\n",
       " 'queen',\n",
       " 'realli',\n",
       " 'mean',\n",
       " 'wmwadmin',\n",
       " 'decemb',\n",
       " 'everi',\n",
       " 'pictur',\n",
       " 'tell',\n",
       " 'stori',\n",
       " 'photo',\n",
       " 'word',\n",
       " 'paul',\n",
       " 'power',\n",
       " 'show',\n",
       " 'us',\n",
       " 'hidden',\n",
       " 'background',\n",
       " 'queen',\n",
       " 'elizabeth',\n",
       " 'ii',\n",
       " 'met',\n",
       " 'pop',\n",
       " 'sensat',\n",
       " 'ladi',\n",
       " 'gaga',\n",
       " 'live',\n",
       " 'wmwadmin',\n",
       " 'august',\n",
       " 'consid',\n",
       " 'prophet',\n",
       " 'mani',\n",
       " 'find',\n",
       " 'eeri',\n",
       " 'echo',\n",
       " 'present',\n",
       " 'day',\n",
       " 'concern',\n",
       " 'john',\n",
       " 'carpent',\n",
       " 'yearold',\n",
       " 'live',\n",
       " 'view',\n",
       " 'cult',\n",
       " 'classic',\n",
       " 'life',\n",
       " 'american',\n",
       " 'jew',\n",
       " 'racist',\n",
       " 'marxist',\n",
       " 'israel',\n",
       " 'part',\n",
       " 'ii',\n",
       " 'wmwadmin',\n",
       " 'octob',\n",
       " 'written',\n",
       " 'nearli',\n",
       " 'twenti',\n",
       " 'year',\n",
       " 'ago',\n",
       " 'jack',\n",
       " 'bernstein',\n",
       " 'word',\n",
       " 'prophet',\n",
       " 'ring',\n",
       " 'paid',\n",
       " 'life',\n",
       " 'al',\n",
       " 'qaeda',\n",
       " 'databas',\n",
       " 'wayn',\n",
       " 'madsen',\n",
       " 'may',\n",
       " 'pierrehenri',\n",
       " 'bunel',\n",
       " 'former',\n",
       " 'agent',\n",
       " 'french',\n",
       " 'militari',\n",
       " 'intellig',\n",
       " 'tell',\n",
       " 'origin',\n",
       " 'al',\n",
       " 'qaeda',\n",
       " 'ultim',\n",
       " 'purpos',\n",
       " 'top',\n",
       " 'five',\n",
       " 'donor',\n",
       " 'clinton',\n",
       " 'campaign',\n",
       " 'jewish',\n",
       " 'trend',\n",
       " 'articl',\n",
       " 'trend',\n",
       " 'articl',\n",
       " 'genet',\n",
       " 'modifi',\n",
       " 'crop',\n",
       " 'us',\n",
       " 'fail',\n",
       " 'deliv',\n",
       " 'promis',\n",
       " 'greater',\n",
       " 'crop',\n",
       " 'yield',\n",
       " 'diminish',\n",
       " 'pesticid',\n",
       " 'use',\n",
       " 'publish',\n",
       " 'octob',\n",
       " 'sourc',\n",
       " 'new',\n",
       " 'york',\n",
       " 'time',\n",
       " 'london',\n",
       " 'controversi',\n",
       " 'genet',\n",
       " 'modifi',\n",
       " 'crop',\n",
       " 'long',\n",
       " 'focus',\n",
       " 'larg',\n",
       " 'unsubstanti',\n",
       " 'fear',\n",
       " 'unsaf',\n",
       " 'eat',\n",
       " 'extens',\n",
       " 'examin',\n",
       " 'new',\n",
       " 'york',\n",
       " 'time',\n",
       " 'indic',\n",
       " 'debat',\n",
       " 'miss',\n",
       " 'basic',\n",
       " 'problem',\n",
       " 'genet',\n",
       " 'modif',\n",
       " 'unit',\n",
       " 'state',\n",
       " 'canada',\n",
       " 'acceler',\n",
       " 'increas',\n",
       " 'crop',\n",
       " 'yield',\n",
       " 'led',\n",
       " 'overal',\n",
       " 'reduct',\n",
       " 'use',\n",
       " 'chemic',\n",
       " 'pesticid',\n",
       " 'promis',\n",
       " 'genet',\n",
       " 'modif',\n",
       " 'twofold',\n",
       " 'make',\n",
       " 'crop',\n",
       " 'immun',\n",
       " 'effect',\n",
       " 'weedkil',\n",
       " 'inher',\n",
       " 'resist',\n",
       " 'mani',\n",
       " 'pest',\n",
       " 'would',\n",
       " 'grow',\n",
       " 'robustli',\n",
       " 'would',\n",
       " 'becom',\n",
       " 'indispens',\n",
       " 'feed',\n",
       " 'world',\n",
       " 'grow',\n",
       " 'popul',\n",
       " 'also',\n",
       " 'requir',\n",
       " 'fewer',\n",
       " 'applic',\n",
       " 'spray',\n",
       " 'pesticid',\n",
       " 'twenti',\n",
       " 'year',\n",
       " 'ago',\n",
       " 'europ',\n",
       " 'larg',\n",
       " 'reject',\n",
       " 'genet',\n",
       " 'modif',\n",
       " 'time',\n",
       " 'unit',\n",
       " 'state',\n",
       " 'canada',\n",
       " 'embrac',\n",
       " 'compar',\n",
       " 'result',\n",
       " 'two',\n",
       " 'contin',\n",
       " 'use',\n",
       " 'independ',\n",
       " 'data',\n",
       " 'well',\n",
       " 'academ',\n",
       " 'industri',\n",
       " 'research',\n",
       " 'show',\n",
       " 'technolog',\n",
       " 'fallen',\n",
       " 'short',\n",
       " 'promis',\n",
       " 'analysi',\n",
       " 'time',\n",
       " 'use',\n",
       " 'un',\n",
       " 'data',\n",
       " 'show',\n",
       " 'unit',\n",
       " 'state',\n",
       " 'canada',\n",
       " 'gain',\n",
       " 'discern',\n",
       " 'advantag',\n",
       " 'yield',\n",
       " 'measur',\n",
       " 'western',\n",
       " 'europ',\n",
       " 'region',\n",
       " 'compar',\n",
       " 'modern',\n",
       " 'agricultur',\n",
       " 'produc',\n",
       " 'like',\n",
       " 'franc',\n",
       " 'germani',\n",
       " 'also',\n",
       " 'recent',\n",
       " 'nation',\n",
       " 'academi',\n",
       " 'scienc',\n",
       " 'report',\n",
       " 'found',\n",
       " 'littl',\n",
       " 'evid',\n",
       " 'introduct',\n",
       " 'genet',\n",
       " 'modifi',\n",
       " 'crop',\n",
       " 'unit',\n",
       " 'state',\n",
       " 'led',\n",
       " 'yield',\n",
       " 'gain',\n",
       " 'beyond',\n",
       " 'seen',\n",
       " 'convent',\n",
       " 'crop',\n",
       " 'time',\n",
       " 'herbicid',\n",
       " 'use',\n",
       " 'increas',\n",
       " 'unit',\n",
       " 'state',\n",
       " 'even',\n",
       " 'major',\n",
       " 'crop',\n",
       " 'like',\n",
       " 'corn',\n",
       " 'soybean',\n",
       " 'cotton',\n",
       " 'convert',\n",
       " 'modifi',\n",
       " 'varieti',\n",
       " 'unit',\n",
       " 'state',\n",
       " 'fallen',\n",
       " 'behind',\n",
       " 'europ',\n",
       " 'biggest',\n",
       " 'produc',\n",
       " 'franc',\n",
       " 'reduc',\n",
       " 'overal',\n",
       " 'use',\n",
       " 'pesticid',\n",
       " 'includ',\n",
       " 'herbicid',\n",
       " 'insecticid',\n",
       " 'genet',\n",
       " 'modifi',\n",
       " 'crop',\n",
       " 'us',\n",
       " 'fail',\n",
       " 'deliv',\n",
       " 'promis',\n",
       " 'greater',\n",
       " 'crop',\n",
       " 'yield',\n",
       " 'diminish',\n",
       " 'pesticid',\n",
       " 'use',\n",
       " 'here',\n",
       " 'someth',\n",
       " 'interest',\n",
       " 'unz',\n",
       " 'review',\n",
       " 'recipi',\n",
       " 'name',\n",
       " 'recipi',\n",
       " 'email',\n",
       " 'forgotten',\n",
       " 'man',\n",
       " 'decid',\n",
       " 'presidenti',\n",
       " 'elect',\n",
       " 'donald',\n",
       " 'trump',\n",
       " 'persuad',\n",
       " 'forgotten',\n",
       " 'man',\n",
       " 'repos',\n",
       " 'anger',\n",
       " 'frustrat',\n",
       " 'power',\n",
       " 'trump',\n",
       " 'hand',\n",
       " 'forgotten',\n",
       " 'man',\n",
       " 'want',\n",
       " 'govern',\n",
       " 'vote',\n",
       " 'trump',\n",
       " 'tide',\n",
       " 'began',\n",
       " 'turn',\n",
       " 'hillari',\n",
       " 'clinton',\n",
       " 'tuesday',\n",
       " 'night',\n",
       " 'plan',\n",
       " 'write',\n",
       " 'column',\n",
       " 'unwarr',\n",
       " 'unlaw',\n",
       " 'inject',\n",
       " 'fbi',\n",
       " 'polit',\n",
       " 'process',\n",
       " 'time',\n",
       " 'seat',\n",
       " 'fox',\n",
       " 'news',\n",
       " 'number',\n",
       " 'cruncher',\n",
       " 'gener',\n",
       " 'expos',\n",
       " 'trend',\n",
       " 'vote',\n",
       " 'total',\n",
       " 'number',\n",
       " 'cruncher',\n",
       " 'lucid',\n",
       " 'explan',\n",
       " 'long',\n",
       " 'reveal',\n",
       " 'onair',\n",
       " 'idea',\n",
       " 'guy',\n",
       " 'number',\n",
       " 'guy',\n",
       " 'tuesday',\n",
       " 'night',\n",
       " 'number',\n",
       " 'overwhelm',\n",
       " 'clear',\n",
       " 'fbi',\n",
       " 'noth',\n",
       " 'outcom',\n",
       " 'presidenti',\n",
       " 'elect',\n",
       " 'number',\n",
       " 'tuesday',\n",
       " 'told',\n",
       " 'tale',\n",
       " 'need',\n",
       " 'relat',\n",
       " 'fbi',\n",
       " 'fail',\n",
       " 'assault',\n",
       " 'rule',\n",
       " 'law',\n",
       " 'anoth',\n",
       " 'column',\n",
       " 'whatev',\n",
       " 'impress',\n",
       " 'trump',\n",
       " 'may',\n",
       " 'given',\n",
       " 'carniv',\n",
       " 'barker',\n",
       " 'hero',\n",
       " 'jerk',\n",
       " 'courag',\n",
       " 'leader',\n",
       " 'brilliantli',\n",
       " 'tap',\n",
       " 'deep',\n",
       " 'vein',\n",
       " 'million',\n",
       " 'american',\n",
       " 'men',\n",
       " 'women',\n",
       " 'believ',\n",
       " 'forgotten',\n",
       " 'govern',\n",
       " 'pay',\n",
       " 'good',\n",
       " 'peopl',\n",
       " 'alien',\n",
       " 'elit',\n",
       " 'domin',\n",
       " 'american',\n",
       " 'govern',\n",
       " 'cultur',\n",
       " 'civic',\n",
       " 'life',\n",
       " 'tuesday',\n",
       " 'night',\n",
       " 'found',\n",
       " 'home',\n",
       " 'forgotten',\n",
       " 'man',\n",
       " 'believ',\n",
       " 'obama',\n",
       " 'administr',\n",
       " 'doesnt',\n",
       " 'care',\n",
       " 'forgotten',\n",
       " 'man',\n",
       " 'know',\n",
       " 'govern',\n",
       " 'put',\n",
       " 'place',\n",
       " 'regul',\n",
       " 'econom',\n",
       " 'activ',\n",
       " 'put',\n",
       " 'work',\n",
       " 'lowerpay',\n",
       " 'job',\n",
       " 'forgotten',\n",
       " 'men',\n",
       " 'women',\n",
       " 'resent',\n",
       " 'obama',\n",
       " 'administr',\n",
       " 'tell',\n",
       " 'must',\n",
       " 'health',\n",
       " 'insur',\n",
       " 'tax',\n",
       " 'incompet',\n",
       " 'manipul',\n",
       " 'marketplac',\n",
       " 'caus',\n",
       " 'cost',\n",
       " 'insur',\n",
       " 'often',\n",
       " 'unwant',\n",
       " 'product',\n",
       " 'skyrocket',\n",
       " 'good',\n",
       " 'folk',\n",
       " 'cring',\n",
       " 'famili',\n",
       " 'doctor',\n",
       " 'told',\n",
       " 'could',\n",
       " 'longer',\n",
       " 'afford',\n",
       " 'treat',\n",
       " 'fed',\n",
       " 'overregul',\n",
       " 'practic',\n",
       " 'medicin',\n",
       " 'simpli',\n",
       " 'couldnt',\n",
       " 'believ',\n",
       " 'govern',\n",
       " 'would',\n",
       " 'make',\n",
       " 'practic',\n",
       " 'medicin',\n",
       " 'expens',\n",
       " 'doctor',\n",
       " 'drove',\n",
       " 'could',\n",
       " 'afford',\n",
       " 'stay',\n",
       " 'busi',\n",
       " 'outrag',\n",
       " 'doctor',\n",
       " 'told',\n",
       " 'fed',\n",
       " 'could',\n",
       " 'see',\n",
       " 'medic',\n",
       " 'record',\n",
       " 'dictat',\n",
       " 'medic',\n",
       " 'treatment',\n",
       " 'forgotten',\n",
       " 'man',\n",
       " 'profound',\n",
       " 'resent',\n",
       " 'govern',\n",
       " 'tell',\n",
       " 'live',\n",
       " 'forgotten',\n",
       " 'man',\n",
       " 'union',\n",
       " 'due',\n",
       " 'shot',\n",
       " 'union',\n",
       " 'leader',\n",
       " 'use',\n",
       " 'due',\n",
       " 'support',\n",
       " 'polit',\n",
       " 'candid',\n",
       " 'doesnt',\n",
       " 'know',\n",
       " 'like',\n",
       " 'yet',\n",
       " 'usual',\n",
       " 'vote',\n",
       " 'democrat',\n",
       " 'tradit',\n",
       " 'belief',\n",
       " 'democrat',\n",
       " 'would',\n",
       " 'think',\n",
       " 'need',\n",
       " 'frame',\n",
       " 'feder',\n",
       " 'legisl',\n",
       " 'havent',\n",
       " 'forgotten',\n",
       " 'man',\n",
       " 'speak',\n",
       " 'mind',\n",
       " 'isnt',\n",
       " 'drawn',\n",
       " 'lofti',\n",
       " 'argument',\n",
       " 'freedom',\n",
       " 'speech',\n",
       " 'forgotten',\n",
       " 'man',\n",
       " 'want',\n",
       " 'govern',\n",
       " 'work',\n",
       " 'couldnt',\n",
       " 'tell',\n",
       " 'aspect',\n",
       " 'behavior',\n",
       " 'unconstitut',\n",
       " 'forgotten',\n",
       " 'man',\n",
       " 'want',\n",
       " 'elect',\n",
       " 'offici',\n",
       " 'dont',\n",
       " 'wont',\n",
       " 'forget',\n",
       " 'forgotten',\n",
       " 'man',\n",
       " 'hope',\n",
       " 'never',\n",
       " 'see',\n",
       " 'judg',\n",
       " 'courtroom',\n",
       " 'want',\n",
       " 'judg',\n",
       " 'someon',\n",
       " 'understand',\n",
       " 'forgotten',\n",
       " 'man',\n",
       " 'want',\n",
       " 'sexual',\n",
       " 'freedom',\n",
       " 'privaci',\n",
       " 'babi',\n",
       " 'rip',\n",
       " 'womb',\n",
       " 'conveni',\n",
       " 'forgotten',\n",
       " 'man',\n",
       " 'doesnt',\n",
       " 'want',\n",
       " 'war',\n",
       " 'loath',\n",
       " 'militari',\n",
       " 'defeat',\n",
       " 'even',\n",
       " 'forgotten',\n",
       " 'man',\n",
       " 'want',\n",
       " 'inexpens',\n",
       " 'good',\n",
       " 'pay',\n",
       " 'made',\n",
       " 'peopl',\n",
       " 'like',\n",
       " 'forgotten',\n",
       " 'man',\n",
       " 'doesnt',\n",
       " 'want',\n",
       " 'govern',\n",
       " 'take',\n",
       " 'much',\n",
       " 'money',\n",
       " 'work',\n",
       " 'hard',\n",
       " 'lose',\n",
       " 'incent',\n",
       " 'work',\n",
       " 'close',\n",
       " 'busi',\n",
       " 'kill',\n",
       " 'job',\n",
       " 'forgotten',\n",
       " 'man',\n",
       " 'want',\n",
       " 'everyon',\n",
       " 'abl',\n",
       " 'keep',\n",
       " 'lion',\n",
       " 'share',\n",
       " 'earn',\n",
       " 'forgotten',\n",
       " 'man',\n",
       " 'forgiv',\n",
       " 'doesnt',\n",
       " 'forget',\n",
       " 'trump',\n",
       " 'got',\n",
       " 'trump',\n",
       " 'tap',\n",
       " 'presidenti',\n",
       " 'candid',\n",
       " 'sinc',\n",
       " 'ronald',\n",
       " 'reagan',\n",
       " 'forgotten',\n",
       " 'man',\n",
       " 'view',\n",
       " 'clinton',\n",
       " 'interest',\n",
       " 'forgotten',\n",
       " 'man',\n",
       " 'believ',\n",
       " 'clinton',\n",
       " 'would',\n",
       " 'work',\n",
       " 'special',\n",
       " 'interest',\n",
       " 'forgotten',\n",
       " 'man',\n",
       " 'saw',\n",
       " 'trump',\n",
       " 'grasp',\n",
       " 'clinton',\n",
       " 'overlook',\n",
       " 'trump',\n",
       " 'understood',\n",
       " 'clinton',\n",
       " 'ignor',\n",
       " 'trump',\n",
       " 'turn',\n",
       " 'vote',\n",
       " 'clinton',\n",
       " 'took',\n",
       " 'grant',\n",
       " 'doubt',\n",
       " 'forgotten',\n",
       " 'man',\n",
       " 'saw',\n",
       " 'recent',\n",
       " 'al',\n",
       " 'smith',\n",
       " 'dinner',\n",
       " 'new',\n",
       " 'york',\n",
       " 'citi',\n",
       " 'last',\n",
       " 'month',\n",
       " 'person',\n",
       " 'blackti',\n",
       " 'fundrais',\n",
       " 'archdioces',\n",
       " 'new',\n",
       " 'york',\n",
       " 'trump',\n",
       " 'speech',\n",
       " 'mediocr',\n",
       " 'clinton',\n",
       " 'stellar',\n",
       " 'tri',\n",
       " 'shake',\n",
       " 'hand',\n",
       " 'ran',\n",
       " 'secret',\n",
       " 'servic',\n",
       " 'roadblock',\n",
       " 'around',\n",
       " 'head',\n",
       " 'tabl',\n",
       " 'trump',\n",
       " 'wave',\n",
       " 'twinkl',\n",
       " 'eye',\n",
       " 'saw',\n",
       " 'clinton',\n",
       " 'saw',\n",
       " 'lone',\n",
       " 'face',\n",
       " 'without',\n",
       " 'joy',\n",
       " 'wednesday',\n",
       " 'morn',\n",
       " 'dawn',\n",
       " 'doom',\n",
       " 'knew',\n",
       " 'forgotten',\n",
       " 'man',\n",
       " 'knew',\n",
       " 'well',\n",
       " 'copyright',\n",
       " 'andrew',\n",
       " 'napolitano',\n",
       " 'distribut',\n",
       " 'creatorscom',\n",
       " 'forgotten',\n",
       " 'man',\n",
       " 'articl',\n",
       " 'first',\n",
       " 'appear',\n",
       " 'person',\n",
       " 'liberti',\n",
       " 'publish',\n",
       " 'brandon',\n",
       " 'smith',\n",
       " 'altmarketcom',\n",
       " 'us',\n",
       " 'presidenti',\n",
       " 'elect',\n",
       " 'entir',\n",
       " 'world',\n",
       " 'confus',\n",
       " 'brandon',\n",
       " 'smith',\n",
       " 'well',\n",
       " 'everyon',\n",
       " 'thought',\n",
       " 'sure',\n",
       " 'thing',\n",
       " 'hillari',\n",
       " 'clinton',\n",
       " 'white',\n",
       " 'hous',\n",
       " 'bag',\n",
       " 'entir',\n",
       " 'polit',\n",
       " 'system',\n",
       " 'dnc',\n",
       " 'rnc',\n",
       " 'mainstream',\n",
       " 'media',\n",
       " 'alreadi',\n",
       " 'call',\n",
       " 'elect',\n",
       " 'done',\n",
       " 'onlin',\n",
       " 'gambl',\n",
       " 'site',\n",
       " 'list',\n",
       " 'clinton',\n",
       " 'sure',\n",
       " 'bet',\n",
       " 'irish',\n",
       " 'site',\n",
       " 'paddi',\n",
       " 'power',\n",
       " 'even',\n",
       " 'paid',\n",
       " 'one',\n",
       " 'million',\n",
       " 'dollar',\n",
       " 'assumpt',\n",
       " 'clinton',\n",
       " 'win',\n",
       " 'one',\n",
       " 'weiner',\n",
       " 'ruin',\n",
       " 'everyth',\n",
       " 'anthoni',\n",
       " 'weinerth',\n",
       " 'revel',\n",
       " 'octob',\n",
       " 'surpris',\n",
       " 'reopen',\n",
       " 'fbi',\n",
       " 'investig',\n",
       " 'hillari',\n",
       " 'clinton',\n",
       " 'misus',\n",
       " 'classifi',\n",
       " 'data',\n",
       " 'privat',\n",
       " 'vulner',\n",
       " 'email',\n",
       " 'server',\n",
       " 'come',\n",
       " 'shock',\n",
       " 'certainli',\n",
       " 'mani',\n",
       " 'peopl',\n",
       " 'around',\n",
       " 'world',\n",
       " 'hundr',\n",
       " 'mainstream',\n",
       " 'outlet',\n",
       " 'scrambl',\n",
       " 'spin',\n",
       " 'news',\n",
       " 'misconduct',\n",
       " 'fbi',\n",
       " 'rather',\n",
       " 'victori',\n",
       " 'hall',\n",
       " 'justic',\n",
       " ...]"
      ]
     },
     "execution_count": 42,
     "metadata": {},
     "output_type": "execute_result"
    }
   ],
   "source": [
    "all_words"
   ]
  },
  {
   "cell_type": "code",
   "execution_count": null,
   "metadata": {
    "colab": {
     "base_uri": "https://localhost:8080/"
    },
    "id": "KZ4cFJy8CApw",
    "outputId": "4dfe3ff8-6ae8-46ef-acf1-664f821f6d4f"
   },
   "outputs": [
    {
     "data": {
      "text/plain": [
       "[('scalfari', 1),\n",
       " ('barabba', 1),\n",
       " ('usdcad', 1),\n",
       " ('baidu', 1),\n",
       " ('qwerti', 1),\n",
       " ('nazarian', 1),\n",
       " ('afterglow', 1),\n",
       " ('nighthour', 1),\n",
       " ('fraudhour', 1),\n",
       " ('thecommonseonsesneshowcom', 1)]"
      ]
     },
     "execution_count": 43,
     "metadata": {},
     "output_type": "execute_result"
    }
   ],
   "source": [
    "# choose k and visually inspect the bottom 10 words of the top k\n",
    "k = 50000\n",
    "top_k_words = fdist.most_common(k)\n",
    "top_k_words[-10:]"
   ]
  },
  {
   "cell_type": "code",
   "execution_count": null,
   "metadata": {
    "colab": {
     "base_uri": "https://localhost:8080/"
    },
    "id": "ZEPQGb7OCK7A",
    "outputId": "bdfdcc91-c9b7-4930-922e-c73e142ad441"
   },
   "outputs": [
    {
     "data": {
      "text/plain": [
       "[('disempower', 13),\n",
       " ('thighborg', 13),\n",
       " ('kickoff', 13),\n",
       " ('ecommerc', 13),\n",
       " ('charlottesvil', 13),\n",
       " ('hypnotist', 13),\n",
       " ('cpd', 13),\n",
       " ('diagram', 13),\n",
       " ('archuleta', 13),\n",
       " ('deepleftfieldinfo', 13)]"
      ]
     },
     "execution_count": 44,
     "metadata": {},
     "output_type": "execute_result"
    }
   ],
   "source": [
    "# choose k and visually inspect the bottom 10 words of the top k\n",
    "k = 15000\n",
    "top_k_words = fdist.most_common(k)\n",
    "top_k_words[-10:]"
   ]
  },
  {
   "cell_type": "code",
   "execution_count": null,
   "metadata": {
    "id": "Le81DFcyCRwz"
   },
   "outputs": [],
   "source": [
    "# define a function only to keep words in the top k words\n",
    "top_k_words,_ = zip(*fdist.most_common(k))\n",
    "top_k_words = set(top_k_words)\n",
    "def keep_top_k_words(text):\n",
    "    return [word for word in text if word in top_k_words]"
   ]
  },
  {
   "cell_type": "code",
   "execution_count": null,
   "metadata": {
    "id": "NqSFZtDqCyEZ"
   },
   "outputs": [],
   "source": [
    "df['tokenized'] = df['tokenized'].apply(keep_top_k_words)"
   ]
  },
  {
   "cell_type": "code",
   "execution_count": null,
   "metadata": {
    "colab": {
     "base_uri": "https://localhost:8080/"
    },
    "id": "qfJNNj6VS18g",
    "outputId": "811e4757-8287-45e7-887b-435e53d4af6c"
   },
   "outputs": [
    {
     "data": {
      "text/plain": [
       "0        [behind, headlin, conspiraci, coverup, ancient...\n",
       "1        [trend, articl, trend, articl, genet, modifi, ...\n",
       "2        [here, someth, interest, unz, review, recipi, ...\n",
       "3        [articl, first, appear, person, liberti, publi...\n",
       "4        [drink, alcohol, might, seem, like, normal, hi...\n",
       "                               ...                        \n",
       "12352    [novemb, fbi, clinton, foundat, investig, high...\n",
       "12353    [written, three, time, paul, ryan, presid, glo...\n",
       "12354    [yemen, photo, provid, media, bureau, oper, co...\n",
       "12355    [new, zealand, countri, entir, east, coast, ur...\n",
       "12356    [kidney, protect, liver, protect, tabl, reveal...\n",
       "Name: tokenized, Length: 12357, dtype: object"
      ]
     },
     "execution_count": 47,
     "metadata": {},
     "output_type": "execute_result"
    }
   ],
   "source": [
    "df['tokenized']"
   ]
  },
  {
   "cell_type": "code",
   "execution_count": null,
   "metadata": {
    "colab": {
     "base_uri": "https://localhost:8080/"
    },
    "id": "HgYUtdKrC2eq",
    "outputId": "3c037f30-aacf-495e-dc00-5f0c25f18d6c"
   },
   "outputs": [
    {
     "name": "stdout",
     "output_type": "stream",
     "text": [
      "0     248\n",
      "1     207\n",
      "2     435\n",
      "3    1106\n",
      "4      27\n",
      "Name: doc_len, dtype: int64\n",
      "length of list: 12357 \n",
      "average document length 345.66828518248764 \n",
      "minimum document length 0 \n",
      "maximum document length 11578\n"
     ]
    }
   ],
   "source": [
    "# document length\n",
    "df['doc_len'] = df['tokenized'].apply(lambda x: len(x))\n",
    "print(df['doc_len'].head())\n",
    "doc_lengths = list(df['doc_len'])\n",
    "df.drop(labels='doc_len', axis=1, inplace=True)\n",
    "\n",
    "print(\"length of list:\",len(doc_lengths),\n",
    "      \"\\naverage document length\", np.average(doc_lengths),\n",
    "      \"\\nminimum document length\", min(doc_lengths),\n",
    "      \"\\nmaximum document length\", max(doc_lengths))"
   ]
  },
  {
   "cell_type": "code",
   "execution_count": null,
   "metadata": {
    "colab": {
     "base_uri": "https://localhost:8080/",
     "height": 191
    },
    "id": "c2tmrecNTGwr",
    "outputId": "3947a3d4-2a93-4365-eb41-60bfafddc89a"
   },
   "outputs": [
    {
     "data": {
      "text/html": [
       "\n",
       "  <div id=\"df-1f077df7-37ab-4aa0-8d62-1093f6815483\">\n",
       "    <div class=\"colab-df-container\">\n",
       "      <div>\n",
       "<style scoped>\n",
       "    .dataframe tbody tr th:only-of-type {\n",
       "        vertical-align: middle;\n",
       "    }\n",
       "\n",
       "    .dataframe tbody tr th {\n",
       "        vertical-align: top;\n",
       "    }\n",
       "\n",
       "    .dataframe thead th {\n",
       "        text-align: right;\n",
       "    }\n",
       "</style>\n",
       "<table border=\"1\" class=\"dataframe\">\n",
       "  <thead>\n",
       "    <tr style=\"text-align: right;\">\n",
       "      <th></th>\n",
       "      <th>uuid</th>\n",
       "      <th>author</th>\n",
       "      <th>title</th>\n",
       "      <th>text</th>\n",
       "      <th>language</th>\n",
       "      <th>site_url</th>\n",
       "      <th>country</th>\n",
       "      <th>tokenized</th>\n",
       "    </tr>\n",
       "  </thead>\n",
       "  <tbody>\n",
       "    <tr>\n",
       "      <th>0</th>\n",
       "      <td>fa90e56c54f70f8770a8dc9e0ebfd23d8e312bcc</td>\n",
       "      <td>Gilad Atzmon</td>\n",
       "      <td>Top five donors to Clinton campaign are Jewish</td>\n",
       "      <td>Behind the headlines - conspiracies, cover-ups...</td>\n",
       "      <td>english</td>\n",
       "      <td>thetruthseeker.co.uk</td>\n",
       "      <td>GB</td>\n",
       "      <td>[behind, headlin, conspiraci, coverup, ancient...</td>\n",
       "    </tr>\n",
       "    <tr>\n",
       "      <th>1</th>\n",
       "      <td>504cda23ef42182dfee390c44dab2c5023e516b8</td>\n",
       "      <td>NaN</td>\n",
       "      <td>Genetically Modified Crops in U.S. Fail to Del...</td>\n",
       "      <td>Trending Articles: Trending Articles: Genetica...</td>\n",
       "      <td>english</td>\n",
       "      <td>blacklistednews.com</td>\n",
       "      <td>US</td>\n",
       "      <td>[trend, articl, trend, articl, genet, modifi, ...</td>\n",
       "    </tr>\n",
       "  </tbody>\n",
       "</table>\n",
       "</div>\n",
       "      <button class=\"colab-df-convert\" onclick=\"convertToInteractive('df-1f077df7-37ab-4aa0-8d62-1093f6815483')\"\n",
       "              title=\"Convert this dataframe to an interactive table.\"\n",
       "              style=\"display:none;\">\n",
       "        \n",
       "  <svg xmlns=\"http://www.w3.org/2000/svg\" height=\"24px\"viewBox=\"0 0 24 24\"\n",
       "       width=\"24px\">\n",
       "    <path d=\"M0 0h24v24H0V0z\" fill=\"none\"/>\n",
       "    <path d=\"M18.56 5.44l.94 2.06.94-2.06 2.06-.94-2.06-.94-.94-2.06-.94 2.06-2.06.94zm-11 1L8.5 8.5l.94-2.06 2.06-.94-2.06-.94L8.5 2.5l-.94 2.06-2.06.94zm10 10l.94 2.06.94-2.06 2.06-.94-2.06-.94-.94-2.06-.94 2.06-2.06.94z\"/><path d=\"M17.41 7.96l-1.37-1.37c-.4-.4-.92-.59-1.43-.59-.52 0-1.04.2-1.43.59L10.3 9.45l-7.72 7.72c-.78.78-.78 2.05 0 2.83L4 21.41c.39.39.9.59 1.41.59.51 0 1.02-.2 1.41-.59l7.78-7.78 2.81-2.81c.8-.78.8-2.07 0-2.86zM5.41 20L4 18.59l7.72-7.72 1.47 1.35L5.41 20z\"/>\n",
       "  </svg>\n",
       "      </button>\n",
       "      \n",
       "  <style>\n",
       "    .colab-df-container {\n",
       "      display:flex;\n",
       "      flex-wrap:wrap;\n",
       "      gap: 12px;\n",
       "    }\n",
       "\n",
       "    .colab-df-convert {\n",
       "      background-color: #E8F0FE;\n",
       "      border: none;\n",
       "      border-radius: 50%;\n",
       "      cursor: pointer;\n",
       "      display: none;\n",
       "      fill: #1967D2;\n",
       "      height: 32px;\n",
       "      padding: 0 0 0 0;\n",
       "      width: 32px;\n",
       "    }\n",
       "\n",
       "    .colab-df-convert:hover {\n",
       "      background-color: #E2EBFA;\n",
       "      box-shadow: 0px 1px 2px rgba(60, 64, 67, 0.3), 0px 1px 3px 1px rgba(60, 64, 67, 0.15);\n",
       "      fill: #174EA6;\n",
       "    }\n",
       "\n",
       "    [theme=dark] .colab-df-convert {\n",
       "      background-color: #3B4455;\n",
       "      fill: #D2E3FC;\n",
       "    }\n",
       "\n",
       "    [theme=dark] .colab-df-convert:hover {\n",
       "      background-color: #434B5C;\n",
       "      box-shadow: 0px 1px 3px 1px rgba(0, 0, 0, 0.15);\n",
       "      filter: drop-shadow(0px 1px 2px rgba(0, 0, 0, 0.3));\n",
       "      fill: #FFFFFF;\n",
       "    }\n",
       "  </style>\n",
       "\n",
       "      <script>\n",
       "        const buttonEl =\n",
       "          document.querySelector('#df-1f077df7-37ab-4aa0-8d62-1093f6815483 button.colab-df-convert');\n",
       "        buttonEl.style.display =\n",
       "          google.colab.kernel.accessAllowed ? 'block' : 'none';\n",
       "\n",
       "        async function convertToInteractive(key) {\n",
       "          const element = document.querySelector('#df-1f077df7-37ab-4aa0-8d62-1093f6815483');\n",
       "          const dataTable =\n",
       "            await google.colab.kernel.invokeFunction('convertToInteractive',\n",
       "                                                     [key], {});\n",
       "          if (!dataTable) return;\n",
       "\n",
       "          const docLinkHtml = 'Like what you see? Visit the ' +\n",
       "            '<a target=\"_blank\" href=https://colab.research.google.com/notebooks/data_table.ipynb>data table notebook</a>'\n",
       "            + ' to learn more about interactive tables.';\n",
       "          element.innerHTML = '';\n",
       "          dataTable['output_type'] = 'display_data';\n",
       "          await google.colab.output.renderOutput(dataTable, element);\n",
       "          const docLink = document.createElement('div');\n",
       "          docLink.innerHTML = docLinkHtml;\n",
       "          element.appendChild(docLink);\n",
       "        }\n",
       "      </script>\n",
       "    </div>\n",
       "  </div>\n",
       "  "
      ],
      "text/plain": [
       "                                       uuid  ...                                          tokenized\n",
       "0  fa90e56c54f70f8770a8dc9e0ebfd23d8e312bcc  ...  [behind, headlin, conspiraci, coverup, ancient...\n",
       "1  504cda23ef42182dfee390c44dab2c5023e516b8  ...  [trend, articl, trend, articl, genet, modifi, ...\n",
       "\n",
       "[2 rows x 8 columns]"
      ]
     },
     "execution_count": 49,
     "metadata": {},
     "output_type": "execute_result"
    }
   ],
   "source": [
    "df.head(2)"
   ]
  },
  {
   "cell_type": "code",
   "execution_count": null,
   "metadata": {
    "colab": {
     "base_uri": "https://localhost:8080/",
     "height": 441
    },
    "id": "6EPg6jwYC5np",
    "outputId": "e5933b08-9831-4690-b734-c0df4f1811fd"
   },
   "outputs": [
    {
     "data": {
      "image/png": "[encoded data removed]",
      "text/plain": [
       "<Figure size 864x432 with 1 Axes>"
      ]
     },
     "metadata": {},
     "output_type": "display_data"
    }
   ],
   "source": [
    "# plot a histogram of document length\n",
    "num_bins = 1000\n",
    "fig, ax = plt.subplots(figsize=(12,6));\n",
    "# the histogram of the data\n",
    "n, bins, patches = ax.hist(doc_lengths, num_bins)\n",
    "ax.set_xlabel('Document Length (tokens)', fontsize=15)\n",
    "ax.set_ylabel('Normed Frequency', fontsize=15)\n",
    "ax.grid()\n",
    "ax.set_xticks(np.logspace(start=np.log10(50),stop=np.log10(2000),num=8, base=10.0))\n",
    "plt.xlim(0,2000)\n",
    "ax.plot([np.average(doc_lengths) for i in np.linspace(0.0,0.0035,100)], np.linspace(0.0,0.0035,100), '-',\n",
    "        label='average doc length')\n",
    "ax.legend()\n",
    "ax.grid()\n",
    "fig.tight_layout()\n",
    "plt.show()"
   ]
  },
  {
   "cell_type": "code",
   "execution_count": null,
   "metadata": {
    "colab": {
     "base_uri": "https://localhost:8080/"
    },
    "id": "o02ZZAdmDFp0",
    "outputId": "74a4cf0e-6d75-4bfd-f089-92c2d7952490"
   },
   "outputs": [
    {
     "name": "stdout",
     "output_type": "stream",
     "text": [
      "After cleaning and excluding short aticles, the dataframe now has: 10812 articles\n"
     ]
    }
   ],
   "source": [
    "# only keep articles with more than 30 tokens, otherwise too short\n",
    "df = df[df['tokenized'].map(len) >= 40]\n",
    "# make sure all tokenized items are lists\n",
    "df = df[df['tokenized'].map(type) == list]\n",
    "df.reset_index(drop=True,inplace=True)\n",
    "print(\"After cleaning and excluding short aticles, the dataframe now has:\", len(df), \"articles\")"
   ]
  },
  {
   "cell_type": "code",
   "execution_count": null,
   "metadata": {
    "id": "dE9cahn_DhUk"
   },
   "outputs": [],
   "source": [
    "# create a mask of binary values\n",
    "msk = np.random.rand(len(df)) < 0.999"
   ]
  },
  {
   "cell_type": "code",
   "execution_count": null,
   "metadata": {
    "colab": {
     "base_uri": "https://localhost:8080/"
    },
    "id": "msfMM4XGDtZf",
    "outputId": "7d67e9f8-f07d-43c1-de34-59d4fe7150d3"
   },
   "outputs": [
    {
     "data": {
      "text/plain": [
       "array([ True,  True,  True, ...,  True,  True,  True])"
      ]
     },
     "execution_count": 53,
     "metadata": {},
     "output_type": "execute_result"
    }
   ],
   "source": [
    "msk"
   ]
  },
  {
   "cell_type": "code",
   "execution_count": null,
   "metadata": {
    "id": "1MCgG4uBDvv2"
   },
   "outputs": [],
   "source": [
    "train_df = df[msk]\n",
    "train_df.reset_index(drop=True,inplace=True)\n",
    "\n",
    "test_df = df[~msk]\n",
    "test_df.reset_index(drop=True,inplace=True)"
   ]
  },
  {
   "cell_type": "code",
   "execution_count": null,
   "metadata": {
    "colab": {
     "base_uri": "https://localhost:8080/",
     "height": 191
    },
    "id": "tjlU8aaCVUQA",
    "outputId": "d75544e8-5ae7-44f5-9b3b-585a635198ff"
   },
   "outputs": [
    {
     "data": {
      "text/html": [
       "\n",
       "  <div id=\"df-4099f8a9-9cc2-48b0-bcce-d44ec9f6d013\">\n",
       "    <div class=\"colab-df-container\">\n",
       "      <div>\n",
       "<style scoped>\n",
       "    .dataframe tbody tr th:only-of-type {\n",
       "        vertical-align: middle;\n",
       "    }\n",
       "\n",
       "    .dataframe tbody tr th {\n",
       "        vertical-align: top;\n",
       "    }\n",
       "\n",
       "    .dataframe thead th {\n",
       "        text-align: right;\n",
       "    }\n",
       "</style>\n",
       "<table border=\"1\" class=\"dataframe\">\n",
       "  <thead>\n",
       "    <tr style=\"text-align: right;\">\n",
       "      <th></th>\n",
       "      <th>uuid</th>\n",
       "      <th>author</th>\n",
       "      <th>title</th>\n",
       "      <th>text</th>\n",
       "      <th>language</th>\n",
       "      <th>site_url</th>\n",
       "      <th>country</th>\n",
       "      <th>tokenized</th>\n",
       "    </tr>\n",
       "  </thead>\n",
       "  <tbody>\n",
       "    <tr>\n",
       "      <th>0</th>\n",
       "      <td>fa90e56c54f70f8770a8dc9e0ebfd23d8e312bcc</td>\n",
       "      <td>Gilad Atzmon</td>\n",
       "      <td>Top five donors to Clinton campaign are Jewish</td>\n",
       "      <td>Behind the headlines - conspiracies, cover-ups...</td>\n",
       "      <td>english</td>\n",
       "      <td>thetruthseeker.co.uk</td>\n",
       "      <td>GB</td>\n",
       "      <td>[behind, headlin, conspiraci, coverup, ancient...</td>\n",
       "    </tr>\n",
       "    <tr>\n",
       "      <th>1</th>\n",
       "      <td>504cda23ef42182dfee390c44dab2c5023e516b8</td>\n",
       "      <td>NaN</td>\n",
       "      <td>Genetically Modified Crops in U.S. Fail to Del...</td>\n",
       "      <td>Trending Articles: Trending Articles: Genetica...</td>\n",
       "      <td>english</td>\n",
       "      <td>blacklistednews.com</td>\n",
       "      <td>US</td>\n",
       "      <td>[trend, articl, trend, articl, genet, modifi, ...</td>\n",
       "    </tr>\n",
       "  </tbody>\n",
       "</table>\n",
       "</div>\n",
       "      <button class=\"colab-df-convert\" onclick=\"convertToInteractive('df-4099f8a9-9cc2-48b0-bcce-d44ec9f6d013')\"\n",
       "              title=\"Convert this dataframe to an interactive table.\"\n",
       "              style=\"display:none;\">\n",
       "        \n",
       "  <svg xmlns=\"http://www.w3.org/2000/svg\" height=\"24px\"viewBox=\"0 0 24 24\"\n",
       "       width=\"24px\">\n",
       "    <path d=\"M0 0h24v24H0V0z\" fill=\"none\"/>\n",
       "    <path d=\"M18.56 5.44l.94 2.06.94-2.06 2.06-.94-2.06-.94-.94-2.06-.94 2.06-2.06.94zm-11 1L8.5 8.5l.94-2.06 2.06-.94-2.06-.94L8.5 2.5l-.94 2.06-2.06.94zm10 10l.94 2.06.94-2.06 2.06-.94-2.06-.94-.94-2.06-.94 2.06-2.06.94z\"/><path d=\"M17.41 7.96l-1.37-1.37c-.4-.4-.92-.59-1.43-.59-.52 0-1.04.2-1.43.59L10.3 9.45l-7.72 7.72c-.78.78-.78 2.05 0 2.83L4 21.41c.39.39.9.59 1.41.59.51 0 1.02-.2 1.41-.59l7.78-7.78 2.81-2.81c.8-.78.8-2.07 0-2.86zM5.41 20L4 18.59l7.72-7.72 1.47 1.35L5.41 20z\"/>\n",
       "  </svg>\n",
       "      </button>\n",
       "      \n",
       "  <style>\n",
       "    .colab-df-container {\n",
       "      display:flex;\n",
       "      flex-wrap:wrap;\n",
       "      gap: 12px;\n",
       "    }\n",
       "\n",
       "    .colab-df-convert {\n",
       "      background-color: #E8F0FE;\n",
       "      border: none;\n",
       "      border-radius: 50%;\n",
       "      cursor: pointer;\n",
       "      display: none;\n",
       "      fill: #1967D2;\n",
       "      height: 32px;\n",
       "      padding: 0 0 0 0;\n",
       "      width: 32px;\n",
       "    }\n",
       "\n",
       "    .colab-df-convert:hover {\n",
       "      background-color: #E2EBFA;\n",
       "      box-shadow: 0px 1px 2px rgba(60, 64, 67, 0.3), 0px 1px 3px 1px rgba(60, 64, 67, 0.15);\n",
       "      fill: #174EA6;\n",
       "    }\n",
       "\n",
       "    [theme=dark] .colab-df-convert {\n",
       "      background-color: #3B4455;\n",
       "      fill: #D2E3FC;\n",
       "    }\n",
       "\n",
       "    [theme=dark] .colab-df-convert:hover {\n",
       "      background-color: #434B5C;\n",
       "      box-shadow: 0px 1px 3px 1px rgba(0, 0, 0, 0.15);\n",
       "      filter: drop-shadow(0px 1px 2px rgba(0, 0, 0, 0.3));\n",
       "      fill: #FFFFFF;\n",
       "    }\n",
       "  </style>\n",
       "\n",
       "      <script>\n",
       "        const buttonEl =\n",
       "          document.querySelector('#df-4099f8a9-9cc2-48b0-bcce-d44ec9f6d013 button.colab-df-convert');\n",
       "        buttonEl.style.display =\n",
       "          google.colab.kernel.accessAllowed ? 'block' : 'none';\n",
       "\n",
       "        async function convertToInteractive(key) {\n",
       "          const element = document.querySelector('#df-4099f8a9-9cc2-48b0-bcce-d44ec9f6d013');\n",
       "          const dataTable =\n",
       "            await google.colab.kernel.invokeFunction('convertToInteractive',\n",
       "                                                     [key], {});\n",
       "          if (!dataTable) return;\n",
       "\n",
       "          const docLinkHtml = 'Like what you see? Visit the ' +\n",
       "            '<a target=\"_blank\" href=https://colab.research.google.com/notebooks/data_table.ipynb>data table notebook</a>'\n",
       "            + ' to learn more about interactive tables.';\n",
       "          element.innerHTML = '';\n",
       "          dataTable['output_type'] = 'display_data';\n",
       "          await google.colab.output.renderOutput(dataTable, element);\n",
       "          const docLink = document.createElement('div');\n",
       "          docLink.innerHTML = docLinkHtml;\n",
       "          element.appendChild(docLink);\n",
       "        }\n",
       "      </script>\n",
       "    </div>\n",
       "  </div>\n",
       "  "
      ],
      "text/plain": [
       "                                       uuid  ...                                          tokenized\n",
       "0  fa90e56c54f70f8770a8dc9e0ebfd23d8e312bcc  ...  [behind, headlin, conspiraci, coverup, ancient...\n",
       "1  504cda23ef42182dfee390c44dab2c5023e516b8  ...  [trend, articl, trend, articl, genet, modifi, ...\n",
       "\n",
       "[2 rows x 8 columns]"
      ]
     },
     "execution_count": 55,
     "metadata": {},
     "output_type": "execute_result"
    }
   ],
   "source": [
    "train_df.head(2)"
   ]
  },
  {
   "cell_type": "code",
   "execution_count": null,
   "metadata": {
    "colab": {
     "base_uri": "https://localhost:8080/"
    },
    "id": "Mo9HUKl1D3Qb",
    "outputId": "85339f6c-3c3a-49cd-bdef-a2df8941dc68"
   },
   "outputs": [
    {
     "name": "stdout",
     "output_type": "stream",
     "text": [
      "10812 10807 5\n"
     ]
    }
   ],
   "source": [
    "print(len(df),len(train_df),len(test_df))"
   ]
  },
  {
   "cell_type": "code",
   "execution_count": null,
   "metadata": {
    "id": "393BrgAGD6TS"
   },
   "outputs": [],
   "source": [
    "def train_lda(data):\n",
    "    \"\"\"\n",
    "    This function trains the lda model\n",
    "    We setup parameters like number of topics, the chunksize to use in Hoffman method\n",
    "    We also do 2 passes of the data since this is a small dataset, so we want the distributions to stabilize\n",
    "    \"\"\"\n",
    "    num_topics = 100\n",
    "    chunksize = 300\n",
    "    dictionary = corpora.Dictionary(data['tokenized'])\n",
    "    corpus = [dictionary.doc2bow(doc) for doc in data['tokenized']]\n",
    "    t1 = time.time()\n",
    "    # low alpha means each document is only represented by a small number of topics, and vice versa\n",
    "    # low eta means each topic is only represented by a small number of words, and vice versa\n",
    "    lda = LdaModel(corpus=corpus, num_topics=num_topics, id2word=dictionary,\n",
    "                   alpha=1e-2, eta=0.5e-2, chunksize=chunksize, minimum_probability=0.0, passes=2)\n",
    "    t2 = time.time()\n",
    "    print(\"Time to train LDA model on \", len(df), \"articles: \", (t2-t1)/60, \"min\")\n",
    "    return dictionary,corpus,lda"
   ]
  },
  {
   "cell_type": "code",
   "execution_count": null,
   "metadata": {
    "colab": {
     "base_uri": "https://localhost:8080/"
    },
    "id": "3pJqfG7AECPJ",
    "outputId": "65efe5ac-119d-4ec7-a6d5-464d6c278242"
   },
   "outputs": [
    {
     "name": "stderr",
     "output_type": "stream",
     "text": [
      "/usr/local/lib/python3.7/dist-packages/gensim/models/ldamodel.py:1023: RuntimeWarning: divide by zero encountered in log\n",
      "  diff = np.log(self.expElogbeta)\n"
     ]
    },
    {
     "name": "stdout",
     "output_type": "stream",
     "text": [
      "Time to train LDA model on  10812 articles:  1.400085484981537 min\n"
     ]
    }
   ],
   "source": [
    "dictionary,corpus,lda = train_lda(train_df)"
   ]
  },
  {
   "cell_type": "code",
   "execution_count": null,
   "metadata": {
    "colab": {
     "base_uri": "https://localhost:8080/"
    },
    "id": "QxTd3zvNEFFa",
    "outputId": "f3aa2ea3-fb6f-450f-a64f-0fa227e8ac3c"
   },
   "outputs": [
    {
     "data": {
      "text/plain": [
       "[(91,\n",
       "  '0.030*\"inform\" + 0.027*\"use\" + 0.025*\"compani\" + 0.023*\"facebook\" + 0.017*\"data\" + 0.017*\"websit\" + 0.016*\"site\" + 0.014*\"googl\" + 0.013*\"internet\" + 0.012*\"page\" + 0.012*\"user\" + 0.011*\"comput\" + 0.011*\"network\" + 0.011*\"access\" + 0.010*\"onlin\" + 0.010*\"technolog\" + 0.009*\"us\" + 0.009*\"provid\" + 0.008*\"post\" + 0.008*\"servic\"'),\n",
       " (32,\n",
       "  '0.280*\"andrew\" + 0.245*\"art\" + 0.137*\"jeffrey\" + 0.074*\"wine\" + 0.048*\"consult\" + 0.039*\"music\" + 0.034*\"bradford\" + 0.025*\"connect\" + 0.013*\"fifa\" + 0.013*\"tournament\" + 0.009*\"food\" + 0.006*\"member\" + 0.004*\"deepleftfieldinfo\" + 0.003*\"cup\" + 0.001*\"pierson\" + 0.000*\"say\" + 0.000*\"al\" + 0.000*\"england\" + 0.000*\"said\" + 0.000*\"use\"'),\n",
       " (4,\n",
       "  '0.227*\"contact\" + 0.206*\"pleas\" + 0.134*\"email\" + 0.073*\"subscrib\" + 0.052*\"donat\" + 0.041*\"address\" + 0.041*\"receiv\" + 0.030*\"blog\" + 0.016*\"get\" + 0.016*\"new\" + 0.014*\"post\" + 0.012*\"dive\" + 0.011*\"via\" + 0.009*\"run\" + 0.007*\"nake\" + 0.007*\"keep\" + 0.007*\"monthli\" + 0.007*\"notifi\" + 0.006*\"tame\" + 0.006*\"navig\"'),\n",
       " (78,\n",
       "  '0.037*\"court\" + 0.031*\"law\" + 0.026*\"case\" + 0.025*\"crime\" + 0.023*\"crimin\" + 0.020*\"feder\" + 0.019*\"charg\" + 0.019*\"judg\" + 0.018*\"justic\" + 0.013*\"attorney\" + 0.011*\"lawyer\" + 0.010*\"legal\" + 0.010*\"prosecut\" + 0.010*\"us\" + 0.009*\"arrest\" + 0.009*\"prison\" + 0.008*\"defend\" + 0.008*\"jail\" + 0.008*\"guilti\" + 0.008*\"juri\"'),\n",
       " (15,\n",
       "  '0.285*\"michael\" + 0.245*\"film\" + 0.191*\"movi\" + 0.104*\"moor\" + 0.029*\"rebuk\" + 0.025*\"shower\" + 0.016*\"ear\" + 0.007*\"trumpland\" + 0.007*\"victoria\" + 0.007*\"arous\" + 0.006*\"book\" + 0.006*\"legal\" + 0.005*\"joke\" + 0.004*\"short\" + 0.004*\"admir\" + 0.003*\"execut\" + 0.003*\"justif\" + 0.002*\"rumbl\" + 0.002*\"thing\" + 0.002*\"stand\"'),\n",
       " (81,\n",
       "  '0.041*\"tim\" + 0.027*\"sky\" + 0.026*\"kain\" + 0.018*\"netherland\" + 0.018*\"pension\" + 0.018*\"realm\" + 0.017*\"monsanto\" + 0.015*\"spain\" + 0.015*\"studio\" + 0.013*\"spanish\" + 0.013*\"distanc\" + 0.013*\"khan\" + 0.012*\"mentor\" + 0.012*\"storm\" + 0.011*\"equiti\" + 0.011*\"weed\" + 0.011*\"non\" + 0.010*\"lawrenc\" + 0.010*\"roundup\" + 0.010*\"bruce\"'),\n",
       " (66,\n",
       "  '0.056*\"david\" + 0.043*\"brother\" + 0.040*\"washington\" + 0.030*\"dc\" + 0.025*\"state\" + 0.019*\"toni\" + 0.017*\"wire\" + 0.015*\"daili\" + 0.015*\"lee\" + 0.013*\"judiciari\" + 0.011*\"sept\" + 0.011*\"govern\" + 0.009*\"sale\" + 0.009*\"lamp\" + 0.009*\"thinker\" + 0.009*\"bubbl\" + 0.009*\"retail\" + 0.009*\"corner\" + 0.008*\"latest\" + 0.008*\"contra\"'),\n",
       " (22,\n",
       "  '0.143*\"mr\" + 0.099*\"retir\" + 0.041*\"paul\" + 0.041*\"us\" + 0.035*\"ryan\" + 0.027*\"alien\" + 0.022*\"steven\" + 0.019*\"flynn\" + 0.019*\"thoma\" + 0.017*\"gener\" + 0.016*\"miller\" + 0.015*\"air\" + 0.014*\"jfk\" + 0.014*\"john\" + 0.013*\"speaker\" + 0.012*\"jame\" + 0.011*\"endors\" + 0.011*\"major\" + 0.010*\"electromagnet\" + 0.009*\"espionag\"'),\n",
       " (7,\n",
       "  '0.152*\"trump\" + 0.045*\"donald\" + 0.031*\"clinton\" + 0.028*\"elect\" + 0.027*\"presid\" + 0.026*\"vote\" + 0.020*\"hillari\" + 0.014*\"parti\" + 0.014*\"go\" + 0.013*\"american\" + 0.012*\"say\" + 0.012*\"campaign\" + 0.011*\"obama\" + 0.011*\"victori\" + 0.011*\"defeat\" + 0.011*\"would\" + 0.010*\"presidenti\" + 0.010*\"look\" + 0.009*\"promis\" + 0.009*\"poll\"'),\n",
       " (12,\n",
       "  '0.049*\"immigr\" + 0.040*\"obama\" + 0.039*\"american\" + 0.033*\"countri\" + 0.030*\"america\" + 0.030*\"illeg\" + 0.018*\"unit\" + 0.017*\"us\" + 0.017*\"border\" + 0.016*\"presid\" + 0.015*\"state\" + 0.011*\"mexico\" + 0.010*\"million\" + 0.009*\"nation\" + 0.009*\"citizen\" + 0.009*\"plan\" + 0.008*\"secur\" + 0.008*\"new\" + 0.008*\"would\" + 0.008*\"mexican\"')]"
      ]
     },
     "execution_count": 24,
     "metadata": {},
     "output_type": "execute_result"
    }
   ],
   "source": [
    "lda.show_topics(num_topics=10, num_words=20)"
   ]
  },
  {
   "cell_type": "code",
   "execution_count": null,
   "metadata": {
    "colab": {
     "base_uri": "https://localhost:8080/"
    },
    "id": "GPRrdBjgFBoC",
    "outputId": "257ee340-d1f4-4ef7-b4d5-13a4fc3d463f"
   },
   "outputs": [
    {
     "data": {
      "text/plain": [
       "[('immigr', 0.13580014),\n",
       " ('illeg', 0.08208348),\n",
       " ('alien', 0.03803958),\n",
       " ('mexico', 0.03739274),\n",
       " ('border', 0.03235925),\n",
       " ('wall', 0.026419984),\n",
       " ('countri', 0.024081625),\n",
       " ('jerusalem', 0.020093756),\n",
       " ('america', 0.01568658),\n",
       " ('deport', 0.014938081),\n",
       " ('texa', 0.01457519),\n",
       " ('american', 0.014553388),\n",
       " ('unit', 0.013025045),\n",
       " ('secur', 0.012581443),\n",
       " ('build', 0.012546874),\n",
       " ('citi', 0.012440706),\n",
       " ('plan', 0.012006148),\n",
       " ('us', 0.011422619),\n",
       " ('move', 0.009314171),\n",
       " ('cross', 0.008794419)]"
      ]
     },
     "execution_count": 60,
     "metadata": {},
     "output_type": "execute_result"
    }
   ],
   "source": [
    "lda.show_topic(topicid=4, topn=20)"
   ]
  },
  {
   "cell_type": "code",
   "execution_count": null,
   "metadata": {
    "colab": {
     "base_uri": "https://localhost:8080/"
    },
    "id": "-UjYLlroF8ye",
    "outputId": "80d07679-63c8-4629-be96-1110e7c000a6"
   },
   "outputs": [
    {
     "data": {
      "text/plain": [
       "[('earth', 0.026727475),\n",
       " ('star', 0.018808242),\n",
       " ('planet', 0.014275188),\n",
       " ('space', 0.014245245),\n",
       " ('light', 0.013384292),\n",
       " ('alien', 0.0130836135),\n",
       " ('discoveri', 0.009276148),\n",
       " ('ancient', 0.009180628),\n",
       " ('appear', 0.008762714),\n",
       " ('origin', 0.00874469),\n",
       " ('sun', 0.008427799),\n",
       " ('mysteri', 0.008408482),\n",
       " ('look', 0.008274684),\n",
       " ('around', 0.0076543945),\n",
       " ('nasa', 0.0076509058),\n",
       " ('dna', 0.007079556),\n",
       " ('discard', 0.00702118),\n",
       " ('found', 0.006812178),\n",
       " ('sky', 0.006785772),\n",
       " ('fascin', 0.006726354)]"
      ]
     },
     "execution_count": 61,
     "metadata": {},
     "output_type": "execute_result"
    }
   ],
   "source": [
    "lda.show_topic(topicid=85, topn=20)"
   ]
  },
  {
   "cell_type": "code",
   "execution_count": null,
   "metadata": {
    "colab": {
     "base_uri": "https://localhost:8080/"
    },
    "id": "JWQieFTHGI53",
    "outputId": "b712bc5b-072d-4895-d3b7-4fadce41175c"
   },
   "outputs": [
    {
     "name": "stdout",
     "output_type": "stream",
     "text": [
      "1590\n"
     ]
    }
   ],
   "source": [
    "# select and article at random from train_df\n",
    "random_article_index = np.random.randint(len(train_df))\n",
    "bow = dictionary.doc2bow(train_df.iloc[random_article_index,7])\n",
    "print(random_article_index)"
   ]
  },
  {
   "cell_type": "code",
   "execution_count": null,
   "metadata": {
    "colab": {
     "base_uri": "https://localhost:8080/"
    },
    "id": "aDZp1rzjGOD9",
    "outputId": "d9320ad9-7cba-4fe8-9ea7-ae4485ce7c23"
   },
   "outputs": [
    {
     "name": "stdout",
     "output_type": "stream",
     "text": [
      "Wife of FBI Official Investigating Hillary Got $500K from Hillary Allied PAC October 27, 2016 Daniel Greenfield \n",
      "The system is broken. It's deeply corrupted by insider politics . The situation at the center of power has reached the point of utter unaccountability. Insider politics function as a shadow government. That needs to change. Restoring America requires dismantling much of the Federal government not only for Constitutional reasons, but because it's a simple matter of saving the Republic. \n",
      "Hillary Clinton headlined a major fundraiser for a political action committee shortly before the group steered nearly $500,000 to the wife of the FBI official who oversaw the Clinton email investigation, DailyMail.com has learned. \n",
      "Clinton's ties to the Common Good VA - a Virginia state PAC run by Clinton's long-time friend and advisor Terry McAuliffe, its governor - came under scrutiny this week after the Wall Street Journal reported that the group donated heavily to the state senate campaign of Jill McCabe. \n",
      "Her husband Andrew McCabe led the FBI investigation into Clinton's emails. \n",
      "Andrew McCabe, now the deputy director of the FBI, told the Wall Street Journal that he complied with federal ethics rules and was not promoted to lead the Clinton probe until months after his wife's unsuccessful state senate bid ended. \n",
      "Common Good VA was the largest single donor to Jill McCabe's campaign, election records show, giving her $467,000 between June and October of 2015. \n",
      "She was the third-largest recipient of money from the group, which can only contribute to Virginia state candidates. \n",
      "Her campaign also received an additional $207,788 from the Democratic Party of Virginia, a group over which McAuliffe exerts significant control. Combined, the money made up nearly one-third of her total funding. \n",
      "Now McCabe, a pediatrician, suddenly decided to run for public office. Unopposed. That was certainly nice of the Dems to not only put a first timer unopposed, but to throw piles and piles of cash at her. And some of that cash was coming from a key former Clinton Foundation man at the center of the latest Foundation scandal. \n",
      "Although Common Good VA is only allowed to fund state-level candidates, many of its largest donations came from outside of Virginia – including $50,000 from Clinton Foundation official Doug Band in New York, $100,000 from Clinton loyalist Robert Johnson in Maryland, and $10,000 from Clinton mega-donor Stephen Cloobeck in Nevada. \n",
      "In the following months, Common Good VA received several major donations from other close Clinton associates, including $100,000 from Bill Clinton's business partner Ron Burkle in California and $50,000 from Ready for Hillary's finance committee member Leonard Lauder in New York. \n",
      "There are basic conflicts here. Someone this linked to the Clinton network should never have been investigating Hillary regardless of the dates and timing. But this is exactly what happened with Benghazi.\n"
     ]
    }
   ],
   "source": [
    "print(train_df.iloc[random_article_index,3])"
   ]
  },
  {
   "cell_type": "code",
   "execution_count": null,
   "metadata": {
    "id": "q7iJO0RDGYPm"
   },
   "outputs": [],
   "source": [
    "# get the topic contributions for the document chosen at random above\n",
    "doc_distribution = np.array([tup[1] for tup in lda.get_document_topics(bow=bow)])"
   ]
  },
  {
   "cell_type": "code",
   "execution_count": null,
   "metadata": {
    "colab": {
     "base_uri": "https://localhost:8080/",
     "height": 441
    },
    "id": "JmYONi4cGdF5",
    "outputId": "c142e1e9-edec-445e-ccf0-d2709c5f8220"
   },
   "outputs": [
    {
     "data": {
      "image/png": "[encoded data removed]",
      "text/plain": [
       "<Figure size 864x432 with 1 Axes>"
      ]
     },
     "metadata": {},
     "output_type": "display_data"
    }
   ],
   "source": [
    "# bar plot of topic distribution for this document\n",
    "fig, ax = plt.subplots(figsize=(12,6));\n",
    "# the histogram of the data\n",
    "patches = ax.bar(np.arange(len(doc_distribution)), doc_distribution)\n",
    "ax.set_xlabel('Topic ID', fontsize=15)\n",
    "ax.set_ylabel('Topic Contribution', fontsize=15)\n",
    "ax.set_title(\"Topic Distribution for Article \" + str(random_article_index), fontsize=20)\n",
    "ax.set_xticks(np.linspace(10,100,10))\n",
    "fig.tight_layout()\n",
    "plt.show()"
   ]
  },
  {
   "cell_type": "code",
   "execution_count": null,
   "metadata": {
    "colab": {
     "base_uri": "https://localhost:8080/"
    },
    "id": "vU05afzQGgPT",
    "outputId": "28b77bbc-7ecc-44e0-a834-6718a7a6691d"
   },
   "outputs": [
    {
     "name": "stdout",
     "output_type": "stream",
     "text": [
      "87 [('go', 0.020807778), ('peopl', 0.020450788), ('get', 0.019537073), ('like', 0.01756642), ('dont', 0.015148101), ('know', 0.015074524), ('think', 0.014208449), ('make', 0.012825399), ('one', 0.012151202), ('thing', 0.0120570725)] \n",
      "\n",
      "84 [('bank', 0.0240109), ('money', 0.022062615), ('year', 0.015560724), ('economi', 0.013597088), ('financi', 0.013291504), ('dollar', 0.011419494), ('billion', 0.011026669), ('tax', 0.01059189), ('us', 0.01048846), ('govern', 0.009826682)] \n",
      "\n",
      "7 [('trump', 0.152107), ('donald', 0.04493652), ('clinton', 0.031095121), ('elect', 0.028443713), ('presid', 0.026638107), ('vote', 0.026094237), ('hillari', 0.020005828), ('parti', 0.014145356), ('go', 0.013580612), ('american', 0.012829793)] \n",
      "\n",
      "12 [('immigr', 0.04865034), ('obama', 0.039913412), ('american', 0.038686186), ('countri', 0.032781735), ('america', 0.029710853), ('illeg', 0.029665204), ('unit', 0.017744327), ('us', 0.01748673), ('border', 0.016501611), ('presid', 0.015625192)] \n",
      "\n",
      "39 [('year', 0.013830685), ('time', 0.01321125), ('day', 0.012634259), ('one', 0.011163723), ('like', 0.009406454), ('come', 0.0092206765), ('peopl', 0.008955031), ('would', 0.008937607), ('never', 0.008826245), ('even', 0.007962874)] \n",
      "\n"
     ]
    }
   ],
   "source": [
    "# print the top 5 contributing topics and their words\n",
    "for i in doc_distribution.argsort()[-5:][::-1]:\n",
    "    print(i, lda.show_topic(topicid=i, topn=10), \"\\n\")"
   ]
  },
  {
   "cell_type": "code",
   "execution_count": null,
   "metadata": {
    "colab": {
     "base_uri": "https://localhost:8080/"
    },
    "id": "eXwo25EAGnVJ",
    "outputId": "f6838295-9318-4447-d1b1-af4788f7dfcb"
   },
   "outputs": [
    {
     "name": "stdout",
     "output_type": "stream",
     "text": [
      "2\n"
     ]
    }
   ],
   "source": [
    "# select and article at random from test_df\n",
    "random_article_index = np.random.randint(len(test_df))\n",
    "print(random_article_index)"
   ]
  },
  {
   "cell_type": "code",
   "execution_count": null,
   "metadata": {
    "id": "zUYkISf0HPXH"
   },
   "outputs": [],
   "source": [
    "new_bow = dictionary.doc2bow(test_df.iloc[random_article_index,7])"
   ]
  },
  {
   "cell_type": "code",
   "execution_count": null,
   "metadata": {
    "colab": {
     "base_uri": "https://localhost:8080/"
    },
    "id": "lUDnLmxZHcDB",
    "outputId": "18dfd426-35ba-4215-f137-91a066f333f6"
   },
   "outputs": [
    {
     "name": "stdout",
     "output_type": "stream",
     "text": [
      "BLM Rapper & Bill’s Alleged Son Have Nasty Surprise For Hillary Posted on October 31, 2016 by Rebecca Diserio in Politics Share This \n",
      "It looks like when it rains, it pours, and Hillary Clinton is now facing a big problem with Black Lives Matter. It all stems from an alleged affair Bill Clinton had with a black Arkansas prostitute, which produced a son. Now, after years of trying to find out the truth about his biological father, the rumored son’s cause is being taken up by a black rapper, and they have a really bad surprise for Hillary. Rapper “Freenauts” wears “Hillary for Prison” t-shirt while performing rap song “Justice For Danney Williams” \n",
      "The BLM rapper “Freenauts,” wearing a “Hillary for Prison” t-shirt, put out a video, performing his rap song “Justice for Danney Williams,” referring to Bill Clinton’s alleged lovechild. The video has just over 100,000 views, but now that it is the last week before the election, Donald Trump supporters, as well as Black Lives Matter supporters, are posting it all over social media. \n",
      "The plight of Arkansas resident Danney Williams has been around for years, and in the past, Hillary’s henchmen put out disinformation to the press to make it seem as if Williams claims had been proven false. \n",
      "In fact, Danney Williams has never had a DNA test, and many in the media are now realizing that not only does Williams resemble Clinton but his story rings true. Up until Bill Clinton became president, Williams recalls with great detail the Christmas presents Arkansas troopers would bring to his house from then-Governor Bill Clinton. Growing up, Williams was told by his mother and even his teachers that he was Bill Clinton’s son. Rapper “Freenauts” artwork for his song “Justice For Danney Williams” (left), Bill Clinton & Danney Williams (right) \n",
      "With Hillary taking a hit this week, she can’t afford to lose any of her support from minorities, especially the African-American community. Unfortunately for her, it looks like that may happen after WND made this announcement from Williams: \n",
      "Danney Williams, the man from Little Rock, Arkansas, who has claimed since the 1990s to be the black illegitimate son of former President Bill Clinton, will hold a press conference Tuesday at the National Press Club in Washington, D.C., to make an announcement his supporters characterize as a “bombshell that will rock Hillary’s campaign.” \n",
      "On October 19, WND reported that lawyers representing Williams, in the hours before the third and final presidential debate in Las Vegas, announced their intention to file a paternity suit demanding DNA evidence from the former president. \n",
      "It looks like Hillary may be in for a drop in support by African-Americans after Williams describes her as the mean woman who chased his mother away from the Governor’s mansion when he was only a few years old. It may be a day of reckoning for Hillary as everything that can go wrong is all happening at once, and we couldn’t be happier. May Hillary get everything she deserves and then some.\n"
     ]
    }
   ],
   "source": [
    "print(test_df.iloc[random_article_index,3])"
   ]
  },
  {
   "cell_type": "code",
   "execution_count": null,
   "metadata": {
    "id": "mS9qt3znHfXJ"
   },
   "outputs": [],
   "source": [
    "new_doc_distribution = np.array([tup[1] for tup in lda.get_document_topics(bow=new_bow)])"
   ]
  },
  {
   "cell_type": "code",
   "execution_count": null,
   "metadata": {
    "colab": {
     "base_uri": "https://localhost:8080/",
     "height": 441
    },
    "id": "bdDKsrKaHsOw",
    "outputId": "f5e51ec5-165f-4330-d5db-76906327de72"
   },
   "outputs": [
    {
     "data": {
      "image/png": "[encoded data removed]",
      "text/plain": [
       "<Figure size 864x432 with 1 Axes>"
      ]
     },
     "metadata": {},
     "output_type": "display_data"
    }
   ],
   "source": [
    "# bar plot of topic distribution for this document\n",
    "fig, ax = plt.subplots(figsize=(12,6));\n",
    "# the histogram of the data\n",
    "patches = ax.bar(np.arange(len(new_doc_distribution)), new_doc_distribution)\n",
    "ax.set_xlabel('Topic ID', fontsize=15)\n",
    "ax.set_ylabel('Topic Contribution', fontsize=15)\n",
    "ax.set_title(\"Topic Distribution for an Unseen Article\", fontsize=20)\n",
    "ax.set_xticks(np.linspace(10,100,10))\n",
    "fig.tight_layout()\n",
    "plt.show()"
   ]
  },
  {
   "cell_type": "code",
   "execution_count": null,
   "metadata": {
    "colab": {
     "base_uri": "https://localhost:8080/"
    },
    "id": "lOnmxhQ1Hu3w",
    "outputId": "1ee06410-ca27-4bd6-93b5-54eb8da94cf6"
   },
   "outputs": [
    {
     "name": "stdout",
     "output_type": "stream",
     "text": [
      "50 [('clinton', 0.15779713), ('hillari', 0.119718954), ('campaign', 0.03171431), ('foundat', 0.023470638), ('leak', 0.016569931), ('presid', 0.016207939), ('tape', 0.015889456), ('email', 0.014757314), ('bill', 0.014661247), ('wikileak', 0.012536128)] \n",
      "\n",
      "91 [('said', 0.017356016), ('year', 0.012523704), ('day', 0.011745965), ('one', 0.011442394), ('time', 0.009659199), ('famili', 0.008830527), ('two', 0.00882977), ('told', 0.008398595), ('home', 0.008368804), ('man', 0.007397914)] \n",
      "\n",
      "23 [('like', 0.022248425), ('go', 0.021411374), ('get', 0.02087955), ('dont', 0.020218393), ('know', 0.016116602), ('think', 0.015090104), ('peopl', 0.014795168), ('make', 0.014096708), ('want', 0.014073825), ('say', 0.014001077)] \n",
      "\n",
      "69 [('email', 0.021601206), ('hillari', 0.018955154), ('clinton', 0.01761525), ('comey', 0.016653033), ('investig', 0.016583482), ('elect', 0.01605892), ('fbi', 0.01321778), ('depart', 0.012625657), ('justic', 0.01136352), ('director', 0.010474315)] \n",
      "\n",
      "12 [('black', 0.28207785), ('white', 0.11731154), ('racist', 0.028527206), ('mike', 0.02313159), ('america', 0.022425277), ('penc', 0.02047768), ('matter', 0.019176697), ('american', 0.018759316), ('racism', 0.018544951), ('african', 0.016639458)] \n",
      "\n"
     ]
    }
   ],
   "source": [
    "# print the top 8 contributing topics and their words\n",
    "for i in new_doc_distribution.argsort()[-5:][::-1]:\n",
    "    print(i, lda.show_topic(topicid=i, topn=10), \"\\n\")"
   ]
  },
  {
   "cell_type": "code",
   "execution_count": null,
   "metadata": {
    "colab": {
     "base_uri": "https://localhost:8080/"
    },
    "id": "dEMgxNxJH2-9",
    "outputId": "84d41ed4-9c4c-4933-9dbb-cbc2fa7a9713"
   },
   "outputs": [
    {
     "data": {
      "text/plain": [
       "(10807, 100)"
      ]
     },
     "execution_count": 76,
     "metadata": {},
     "output_type": "execute_result"
    }
   ],
   "source": [
    "doc_topic_dist = np.array([[tup[1] for tup in lst] for lst in lda[corpus]])\n",
    "doc_topic_dist.shape"
   ]
  },
  {
   "cell_type": "code",
   "execution_count": null,
   "metadata": {
    "id": "L-NzRmblIeJy"
   },
   "outputs": [],
   "source": [
    "from scipy.spatial import distance\n",
    "\n",
    "def jensen_shannon(query, matrix):\n",
    "    \"\"\"\n",
    "    This function implements a Jensen-Shannon similarity\n",
    "    between the input query (an LDA topic distribution for a document)\n",
    "    and the entire corpus of topic distributions.\n",
    "    \"\"\"\n",
    "    sim = [distance.jensenshannon(data,query) for data in matrix]\n",
    "    return np.array(sim)"
   ]
  },
  {
   "cell_type": "code",
   "execution_count": null,
   "metadata": {
    "id": "4tgA4iTZI9qp"
   },
   "outputs": [],
   "source": [
    "def get_most_similar_documents(query,matrix,k=10):\n",
    "    \"\"\"\n",
    "    This function implements the Jensen-Shannon distance above\n",
    "    and retruns the top k indices of the smallest jensen shannon distances\n",
    "    \"\"\"\n",
    "    sims = jensen_shannon(query,matrix) # list of jensen shannon distances\n",
    "    return sims.argsort()[:k] # the top k positional index of the smallest Jensen Shannon distances"
   ]
  },
  {
   "cell_type": "code",
   "execution_count": null,
   "metadata": {
    "id": "4vS819VPJGF5"
   },
   "outputs": [],
   "source": [
    "# this is surprisingly fast\n",
    "most_sim_ids = get_most_similar_documents(new_doc_distribution,doc_topic_dist)"
   ]
  },
  {
   "cell_type": "code",
   "execution_count": null,
   "metadata": {
    "colab": {
     "base_uri": "https://localhost:8080/"
    },
    "id": "_hYt7sFSKfdz",
    "outputId": "5c439c62-9b57-4444-9e3e-5b4589777425"
   },
   "outputs": [
    {
     "data": {
      "text/plain": [
       "array([[4.0160641e-05, 4.0160641e-05, 4.0160641e-05, ..., 4.0160641e-05,\n",
       "        4.0160641e-05, 4.0160641e-05],\n",
       "       [4.8076930e-05, 4.8076930e-05, 4.8076930e-05, ..., 4.8076930e-05,\n",
       "        4.8076930e-05, 4.8076930e-05],\n",
       "       [2.2935779e-05, 4.9521559e-01, 2.2935779e-05, ..., 2.2935779e-05,\n",
       "        5.3245649e-02, 2.2935779e-05],\n",
       "       ...,\n",
       "       [4.8543683e-05, 4.8543683e-05, 4.8543683e-05, ..., 4.8543683e-05,\n",
       "        4.8543683e-05, 4.8543683e-05],\n",
       "       [1.1904762e-04, 1.1904762e-04, 1.1904762e-04, ..., 1.1904762e-04,\n",
       "        1.1904762e-04, 1.1904762e-04],\n",
       "       [8.8928323e-03, 3.7569734e-03, 2.9761904e-05, ..., 1.3958849e-02,\n",
       "        2.9761904e-05, 2.9761904e-05]], dtype=float32)"
      ]
     },
     "execution_count": 80,
     "metadata": {},
     "output_type": "execute_result"
    }
   ],
   "source": [
    "doc_topic_dist"
   ]
  },
  {
   "cell_type": "code",
   "execution_count": null,
   "metadata": {
    "colab": {
     "base_uri": "https://localhost:8080/"
    },
    "id": "0t6rAAdcKXt6",
    "outputId": "25c62d3d-654b-4317-d864-d3524d084e2e"
   },
   "outputs": [
    {
     "data": {
      "text/plain": [
       "array([3.71747192e-05, 1.68214031e-02, 2.51489282e-02, 3.71747192e-05,\n",
       "       3.71747192e-05, 3.71747192e-05, 3.71747192e-05, 3.71747192e-05,\n",
       "       3.71747192e-05, 3.03529501e-02, 3.71747192e-05, 3.71747192e-05,\n",
       "       5.38441837e-02, 3.71747192e-05, 3.71747192e-05, 5.30044474e-02,\n",
       "       3.71747192e-05, 3.71747192e-05, 3.71747192e-05, 3.71747192e-05,\n",
       "       3.71747192e-05, 3.71747192e-05, 3.71747192e-05, 8.82279724e-02,\n",
       "       3.71747192e-05, 3.71747192e-05, 3.71747192e-05, 3.71747192e-05,\n",
       "       3.71747192e-05, 3.71747192e-05, 3.71747192e-05, 3.71747192e-05,\n",
       "       3.71747192e-05, 3.71747192e-05, 3.71747192e-05, 3.71747192e-05,\n",
       "       3.71747192e-05, 8.56371876e-03, 3.71747192e-05, 3.71747192e-05,\n",
       "       3.71747192e-05, 3.71747192e-05, 1.58829186e-02, 3.71747192e-05,\n",
       "       3.71747192e-05, 1.27149737e-02, 3.71747192e-05, 3.71747192e-05,\n",
       "       3.71747192e-05, 3.71747192e-05, 2.40660027e-01, 1.71151385e-02,\n",
       "       3.71747192e-05, 3.71747192e-05, 3.71747192e-05, 1.72882266e-02,\n",
       "       1.42698195e-02, 3.71747192e-05, 3.71747192e-05, 3.71747192e-05,\n",
       "       3.71747192e-05, 3.71747192e-05, 3.71747192e-05, 3.71747192e-05,\n",
       "       3.71747192e-05, 3.71747192e-05, 3.71747192e-05, 3.71747192e-05,\n",
       "       3.71747192e-05, 8.06255266e-02, 3.71747192e-05, 3.71747192e-05,\n",
       "       3.71747192e-05, 3.07073798e-02, 3.71747192e-05, 3.71747192e-05,\n",
       "       3.71747192e-05, 4.43988014e-03, 3.95415211e-03, 3.71747192e-05,\n",
       "       3.71747192e-05, 3.71747192e-05, 4.55000997e-02, 3.71747192e-05,\n",
       "       3.71747192e-05, 2.41549984e-02, 3.71747192e-05, 3.71747192e-05,\n",
       "       3.71747192e-05, 3.71747192e-05, 3.71747192e-05, 2.13749290e-01,\n",
       "       3.71747192e-05, 3.71747192e-05, 3.71747192e-05, 3.71747192e-05,\n",
       "       3.71747192e-05, 3.71747192e-05, 3.71747192e-05, 3.71747192e-05],\n",
       "      dtype=float32)"
      ]
     },
     "execution_count": 81,
     "metadata": {},
     "output_type": "execute_result"
    }
   ],
   "source": [
    "new_doc_distribution\n"
   ]
  },
  {
   "cell_type": "code",
   "execution_count": null,
   "metadata": {
    "colab": {
     "base_uri": "https://localhost:8080/"
    },
    "id": "NSo-KdjGKSf8",
    "outputId": "6711c1d4-02fe-4338-db6c-4ada335d0535"
   },
   "outputs": [
    {
     "data": {
      "text/plain": [
       "array([1254,  429, 2605, 1425, 8361, 8227, 1940, 9817, 5615, 2826])"
      ]
     },
     "execution_count": 82,
     "metadata": {},
     "output_type": "execute_result"
    }
   ],
   "source": [
    "most_sim_ids"
   ]
  },
  {
   "cell_type": "code",
   "execution_count": null,
   "metadata": {
    "colab": {
     "base_uri": "https://localhost:8080/"
    },
    "id": "hYsXNBpwJMOS",
    "outputId": "84e10ed2-abba-466d-e7ca-5d8bcec653d3"
   },
   "outputs": [
    {
     "data": {
      "text/plain": [
       "429     Clinton Campaign In FULL PANIC After Bill’s Al...\n",
       "1254    Clinton Campaign In FULL PANIC After Bill’s Al...\n",
       "1425    Hillary Immediately Runs From Media After What...\n",
       "1940    Hillary Clinton celebrates her birthday on Spa...\n",
       "2605    WATCH: Trump Calls CNN Reporter “Rude” For Que...\n",
       "2826    New Alleged Audio: Bill Clinton Encourages Mis...\n",
       "5615    We Finally Know Why Hillary Disappeared On Ele...\n",
       "8227    VIDEO: Proof Hillary’s Frail Health is Becomin...\n",
       "8361    Hillary Makes SCANDALOUS Stop After Rachel Mad...\n",
       "9817    Bill Clinton`s long-time lover reveals how he ...\n",
       "Name: title, dtype: object"
      ]
     },
     "execution_count": 83,
     "metadata": {},
     "output_type": "execute_result"
    }
   ],
   "source": [
    "most_similar_df = train_df[train_df.index.isin(most_sim_ids)]\n",
    "most_similar_df['title']"
   ]
  },
  {
   "cell_type": "code",
   "execution_count": null,
   "metadata": {
    "id": "8krYcu4Sc3vf"
   },
   "outputs": [],
   "source": []
  }
 ],
 "metadata": {
  "accelerator": "GPU",
  "colab": {
   "collapsed_sections": [],
   "name": "LDA and Document Similarity.ipynb",
   "provenance": []
  },
  "kernelspec": {
   "display_name": "Python 3 (ipykernel)",
   "language": "python",
   "name": "python3"
  },
  "language_info": {
   "codemirror_mode": {
    "name": "ipython",
    "version": 3
   },
   "file_extension": ".py",
   "mimetype": "text/x-python",
   "name": "python",
   "nbconvert_exporter": "python",
   "pygments_lexer": "ipython3",
   "version": "3.9.7"
  }
 },
 "nbformat": 4,
 "nbformat_minor": 1
}
