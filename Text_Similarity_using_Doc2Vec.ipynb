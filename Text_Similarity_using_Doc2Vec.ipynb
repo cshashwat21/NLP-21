{
  "nbformat": 4,
  "nbformat_minor": 0,
  "metadata": {
    "colab": {
      "name": "Text Similarity using Doc2Vec.ipynb",
      "provenance": [],
      "collapsed_sections": []
    },
    "kernelspec": {
      "name": "python3",
      "display_name": "Python 3"
    },
    "language_info": {
      "name": "python"
    }
  },
  "cells": [
    {
      "cell_type": "code",
      "source": [
        "import pandas as pd\n",
        "import numpy as np\n",
        "from bs4 import BeautifulSoup\n",
        "import matplotlib.pyplot as plt\n",
        "import nltk\n",
        "from nltk.corpus import stopwords\n",
        "import gensim\n",
        "from gensim.models import Word2Vec\n",
        "from gensim.utils import simple_preprocess\n",
        "from gensim.models import FastText\n",
        "from gensim.models import TfidfModel\n",
        "from gensim.corpora import Dictionary\n",
        "from sklearn.neighbors import NearestNeighbors\n",
        "nltk.download('stopwords')"
      ],
      "metadata": {
        "id": "PiEfGtC7IxkW",
        "colab": {
          "base_uri": "https://localhost:8080/"
        },
        "outputId": "3541c028-2294-4184-ee51-1e56bd1dff74"
      },
      "execution_count": 1,
      "outputs": [
        {
          "output_type": "stream",
          "name": "stdout",
          "text": [
            "[nltk_data] Downloading package stopwords to /root/nltk_data...\n",
            "[nltk_data]   Unzipping corpora/stopwords.zip.\n"
          ]
        },
        {
          "output_type": "execute_result",
          "data": {
            "text/plain": [
              "True"
            ]
          },
          "metadata": {},
          "execution_count": 1
        }
      ]
    },
    {
      "cell_type": "code",
      "execution_count": 2,
      "metadata": {
        "id": "dp_9gbHDFtDi",
        "colab": {
          "base_uri": "https://localhost:8080/"
        },
        "outputId": "fd7e0080-0c22-4a9f-ba56-d4a267c428d8"
      },
      "outputs": [
        {
          "output_type": "stream",
          "name": "stdout",
          "text": [
            "Mounted at /content/drive\n"
          ]
        }
      ],
      "source": [
        "from google.colab import drive\n",
        "drive.mount('/content/drive')"
      ]
    },
    {
      "cell_type": "code",
      "source": [
        "df = pd.read_csv('/content/drive/My Drive/DataSet/Questions.csv', encoding = \"ISO-8859-1\", nrows=30000, usecols=['Id', 'Title', 'Body'])"
      ],
      "metadata": {
        "id": "UotCbck6Iyiv"
      },
      "execution_count": 3,
      "outputs": []
    },
    {
      "cell_type": "code",
      "source": [
        "df.head()"
      ],
      "metadata": {
        "colab": {
          "base_uri": "https://localhost:8080/",
          "height": 206
        },
        "id": "kx7cW40jJcVL",
        "outputId": "fc01f6d7-48a3-4c3a-cb29-1dc625b400f3"
      },
      "execution_count": 4,
      "outputs": [
        {
          "output_type": "execute_result",
          "data": {
            "text/html": [
              "\n",
              "  <div id=\"df-17b639fb-17a2-4e2f-9246-f47c07103028\">\n",
              "    <div class=\"colab-df-container\">\n",
              "      <div>\n",
              "<style scoped>\n",
              "    .dataframe tbody tr th:only-of-type {\n",
              "        vertical-align: middle;\n",
              "    }\n",
              "\n",
              "    .dataframe tbody tr th {\n",
              "        vertical-align: top;\n",
              "    }\n",
              "\n",
              "    .dataframe thead th {\n",
              "        text-align: right;\n",
              "    }\n",
              "</style>\n",
              "<table border=\"1\" class=\"dataframe\">\n",
              "  <thead>\n",
              "    <tr style=\"text-align: right;\">\n",
              "      <th></th>\n",
              "      <th>Id</th>\n",
              "      <th>Title</th>\n",
              "      <th>Body</th>\n",
              "    </tr>\n",
              "  </thead>\n",
              "  <tbody>\n",
              "    <tr>\n",
              "      <th>0</th>\n",
              "      <td>469</td>\n",
              "      <td>How can I find the full path to a font from it...</td>\n",
              "      <td>&lt;p&gt;I am using the Photoshop's javascript API t...</td>\n",
              "    </tr>\n",
              "    <tr>\n",
              "      <th>1</th>\n",
              "      <td>502</td>\n",
              "      <td>Get a preview JPEG of a PDF on Windows?</td>\n",
              "      <td>&lt;p&gt;I have a cross-platform (Python) applicatio...</td>\n",
              "    </tr>\n",
              "    <tr>\n",
              "      <th>2</th>\n",
              "      <td>535</td>\n",
              "      <td>Continuous Integration System for a Python Cod...</td>\n",
              "      <td>&lt;p&gt;I'm starting work on a hobby project with a...</td>\n",
              "    </tr>\n",
              "    <tr>\n",
              "      <th>3</th>\n",
              "      <td>594</td>\n",
              "      <td>cx_Oracle: How do I iterate over a result set?</td>\n",
              "      <td>&lt;p&gt;There are several ways to iterate over a re...</td>\n",
              "    </tr>\n",
              "    <tr>\n",
              "      <th>4</th>\n",
              "      <td>683</td>\n",
              "      <td>Using 'in' to match an attribute of Python obj...</td>\n",
              "      <td>&lt;p&gt;I don't remember whether I was dreaming or ...</td>\n",
              "    </tr>\n",
              "  </tbody>\n",
              "</table>\n",
              "</div>\n",
              "      <button class=\"colab-df-convert\" onclick=\"convertToInteractive('df-17b639fb-17a2-4e2f-9246-f47c07103028')\"\n",
              "              title=\"Convert this dataframe to an interactive table.\"\n",
              "              style=\"display:none;\">\n",
              "        \n",
              "  <svg xmlns=\"http://www.w3.org/2000/svg\" height=\"24px\"viewBox=\"0 0 24 24\"\n",
              "       width=\"24px\">\n",
              "    <path d=\"M0 0h24v24H0V0z\" fill=\"none\"/>\n",
              "    <path d=\"M18.56 5.44l.94 2.06.94-2.06 2.06-.94-2.06-.94-.94-2.06-.94 2.06-2.06.94zm-11 1L8.5 8.5l.94-2.06 2.06-.94-2.06-.94L8.5 2.5l-.94 2.06-2.06.94zm10 10l.94 2.06.94-2.06 2.06-.94-2.06-.94-.94-2.06-.94 2.06-2.06.94z\"/><path d=\"M17.41 7.96l-1.37-1.37c-.4-.4-.92-.59-1.43-.59-.52 0-1.04.2-1.43.59L10.3 9.45l-7.72 7.72c-.78.78-.78 2.05 0 2.83L4 21.41c.39.39.9.59 1.41.59.51 0 1.02-.2 1.41-.59l7.78-7.78 2.81-2.81c.8-.78.8-2.07 0-2.86zM5.41 20L4 18.59l7.72-7.72 1.47 1.35L5.41 20z\"/>\n",
              "  </svg>\n",
              "      </button>\n",
              "      \n",
              "  <style>\n",
              "    .colab-df-container {\n",
              "      display:flex;\n",
              "      flex-wrap:wrap;\n",
              "      gap: 12px;\n",
              "    }\n",
              "\n",
              "    .colab-df-convert {\n",
              "      background-color: #E8F0FE;\n",
              "      border: none;\n",
              "      border-radius: 50%;\n",
              "      cursor: pointer;\n",
              "      display: none;\n",
              "      fill: #1967D2;\n",
              "      height: 32px;\n",
              "      padding: 0 0 0 0;\n",
              "      width: 32px;\n",
              "    }\n",
              "\n",
              "    .colab-df-convert:hover {\n",
              "      background-color: #E2EBFA;\n",
              "      box-shadow: 0px 1px 2px rgba(60, 64, 67, 0.3), 0px 1px 3px 1px rgba(60, 64, 67, 0.15);\n",
              "      fill: #174EA6;\n",
              "    }\n",
              "\n",
              "    [theme=dark] .colab-df-convert {\n",
              "      background-color: #3B4455;\n",
              "      fill: #D2E3FC;\n",
              "    }\n",
              "\n",
              "    [theme=dark] .colab-df-convert:hover {\n",
              "      background-color: #434B5C;\n",
              "      box-shadow: 0px 1px 3px 1px rgba(0, 0, 0, 0.15);\n",
              "      filter: drop-shadow(0px 1px 2px rgba(0, 0, 0, 0.3));\n",
              "      fill: #FFFFFF;\n",
              "    }\n",
              "  </style>\n",
              "\n",
              "      <script>\n",
              "        const buttonEl =\n",
              "          document.querySelector('#df-17b639fb-17a2-4e2f-9246-f47c07103028 button.colab-df-convert');\n",
              "        buttonEl.style.display =\n",
              "          google.colab.kernel.accessAllowed ? 'block' : 'none';\n",
              "\n",
              "        async function convertToInteractive(key) {\n",
              "          const element = document.querySelector('#df-17b639fb-17a2-4e2f-9246-f47c07103028');\n",
              "          const dataTable =\n",
              "            await google.colab.kernel.invokeFunction('convertToInteractive',\n",
              "                                                     [key], {});\n",
              "          if (!dataTable) return;\n",
              "\n",
              "          const docLinkHtml = 'Like what you see? Visit the ' +\n",
              "            '<a target=\"_blank\" href=https://colab.research.google.com/notebooks/data_table.ipynb>data table notebook</a>'\n",
              "            + ' to learn more about interactive tables.';\n",
              "          element.innerHTML = '';\n",
              "          dataTable['output_type'] = 'display_data';\n",
              "          await google.colab.output.renderOutput(dataTable, element);\n",
              "          const docLink = document.createElement('div');\n",
              "          docLink.innerHTML = docLinkHtml;\n",
              "          element.appendChild(docLink);\n",
              "        }\n",
              "      </script>\n",
              "    </div>\n",
              "  </div>\n",
              "  "
            ],
            "text/plain": [
              "    Id  ...                                               Body\n",
              "0  469  ...  <p>I am using the Photoshop's javascript API t...\n",
              "1  502  ...  <p>I have a cross-platform (Python) applicatio...\n",
              "2  535  ...  <p>I'm starting work on a hobby project with a...\n",
              "3  594  ...  <p>There are several ways to iterate over a re...\n",
              "4  683  ...  <p>I don't remember whether I was dreaming or ...\n",
              "\n",
              "[5 rows x 3 columns]"
            ]
          },
          "metadata": {},
          "execution_count": 4
        }
      ]
    },
    {
      "cell_type": "code",
      "source": [
        "df.shape"
      ],
      "metadata": {
        "colab": {
          "base_uri": "https://localhost:8080/"
        },
        "id": "5BPmd4txJhGa",
        "outputId": "73526eb1-fe06-454f-8a96-fd997a5b474f"
      },
      "execution_count": 5,
      "outputs": [
        {
          "output_type": "execute_result",
          "data": {
            "text/plain": [
              "(30000, 3)"
            ]
          },
          "metadata": {},
          "execution_count": 5
        }
      ]
    },
    {
      "cell_type": "code",
      "source": [
        "#Let's take a look at some of the questions\n",
        "print('Question1: ', df.iloc[0, 2])\n",
        "print('Question2: ', df.iloc[1, 2])\n",
        "print('Question3: ', df.iloc[2, 2])"
      ],
      "metadata": {
        "colab": {
          "base_uri": "https://localhost:8080/"
        },
        "id": "eGi0PidBJjuh",
        "outputId": "e916359d-dbf7-4fe6-fd32-2a36268c0bcd"
      },
      "execution_count": 6,
      "outputs": [
        {
          "output_type": "stream",
          "name": "stdout",
          "text": [
            "Question1:  <p>I am using the Photoshop's javascript API to find the fonts in a given PSD.</p>\n",
            "\n",
            "<p>Given a font name returned by the API, I want to find the actual physical font file that that font name corresponds to on the disc.</p>\n",
            "\n",
            "<p>This is all happening in a python program running on OSX so I guess I'm looking for one of:</p>\n",
            "\n",
            "<ul>\n",
            "<li>Some Photoshop javascript</li>\n",
            "<li>A Python function</li>\n",
            "<li>An OSX API that I can call from python</li>\n",
            "</ul>\n",
            "\n",
            "Question2:  <p>I have a cross-platform (Python) application which needs to generate a JPEG preview of the first page of a PDF.</p>\n",
            "\n",
            "<p>On the Mac I am spawning <a href=\"http://developer.apple.com/documentation/Darwin/Reference/ManPages/man1/sips.1.html\">sips</a>.  Is there something similarly simple I can do on Windows?</p>\n",
            "\n",
            "Question3:  <p>I'm starting work on a hobby project with a python codebase and would like to set up some form of continuous integration (i.e. running a battery of test-cases each time a check-in is made and sending nag e-mails to responsible persons when the tests fail) similar to CruiseControl or TeamCity.</p>\n",
            "\n",
            "<p>I realize I could do this with hooks in most VCSes, but that requires that the tests run on the same machine as the version control server, which isn't as elegant as I would like. Does anyone have any suggestions for a small, user-friendly, open-source continuous integration system suitable for a Python codebase?</p>\n",
            "\n"
          ]
        }
      ]
    },
    {
      "cell_type": "code",
      "source": [
        "#Using beautiful soup to grab text inside 'p' tags and concatenate it\n",
        "def get_question(html_text):\n",
        "  soup = BeautifulSoup(html_text, 'lxml')\n",
        "  question = ' '.join([t.text for t in soup.find_all('p')]) #concatenating all p tags\n",
        "  return question\n",
        "\n",
        "#Transforming questions to list for ease of processing\n",
        "question_list = df['Body'].apply(get_question).values.tolist()"
      ],
      "metadata": {
        "id": "HqTWjmJcJr2G"
      },
      "execution_count": 7,
      "outputs": []
    },
    {
      "cell_type": "code",
      "source": [
        "question_list[0]"
      ],
      "metadata": {
        "colab": {
          "base_uri": "https://localhost:8080/",
          "height": 53
        },
        "id": "iOqCFrEnKD3l",
        "outputId": "fae90235-814f-4998-c130-85d9be8c1800"
      },
      "execution_count": 8,
      "outputs": [
        {
          "output_type": "execute_result",
          "data": {
            "application/vnd.google.colaboratory.intrinsic+json": {
              "type": "string"
            },
            "text/plain": [
              "\"I am using the Photoshop's javascript API to find the fonts in a given PSD. Given a font name returned by the API, I want to find the actual physical font file that that font name corresponds to on the disc. This is all happening in a python program running on OSX so I guess I'm looking for one of:\""
            ]
          },
          "metadata": {},
          "execution_count": 8
        }
      ]
    },
    {
      "cell_type": "code",
      "source": [
        "#Tokenizing with simple preprocess gensim's simple preprocess\n",
        "def sent_to_words(sentences):\n",
        "    for sentence in sentences:\n",
        "        yield(simple_preprocess(str(sentence), deacc=True)) # returns lowercase tokens, ignoring tokens that are too short or too long\n",
        "\n",
        "question_words = list(sent_to_words(question_list))"
      ],
      "metadata": {
        "id": "7lbp2yQRKKKA"
      },
      "execution_count": 9,
      "outputs": []
    },
    {
      "cell_type": "code",
      "source": [
        "question_words[0][0:5] #first 5 question tokens"
      ],
      "metadata": {
        "colab": {
          "base_uri": "https://localhost:8080/"
        },
        "id": "Ic-HNTpuKOqz",
        "outputId": "dd69d5d3-170f-4a4c-ae52-3ab05cc82519"
      },
      "execution_count": 10,
      "outputs": [
        {
          "output_type": "execute_result",
          "data": {
            "text/plain": [
              "['am', 'using', 'the', 'photoshop', 'javascript']"
            ]
          },
          "metadata": {},
          "execution_count": 10
        }
      ]
    },
    {
      "cell_type": "code",
      "source": [
        "lengths = [len(question) for question in question_words]\n",
        "plt.hist(lengths, bins = 25)\n",
        "plt.show()\n",
        "\n",
        "print('Mean word count of questions is %s' % np.mean(lengths))"
      ],
      "metadata": {
        "colab": {
          "base_uri": "https://localhost:8080/",
          "height": 282
        },
        "id": "6fQ64lidKWp5",
        "outputId": "32243908-c2a4-4fd1-b408-c046a7f4dfab"
      },
      "execution_count": 11,
      "outputs": [
        {
          "output_type": "display_data",
          "data": {
            "image/png": "[encoded data removed]",
            "text/plain": [
              "<Figure size 432x288 with 1 Axes>"
            ]
          },
          "metadata": {
            "needs_background": "light"
          }
        },
        {
          "output_type": "stream",
          "name": "stdout",
          "text": [
            "Mean word count of questions is 80.7959\n"
          ]
        }
      ]
    },
    {
      "cell_type": "code",
      "source": [
        "#Getting rid of stopwords\n",
        "stop_words = stopwords.words('english')\n",
        "\n",
        "def remove_stopwords(sentence):\n",
        "  filtered_words = [word for word in sentence if word not in stop_words]\n",
        "  return filtered_words\n",
        "\n",
        "filtered_questions = [remove_stopwords(question) for question in question_words]"
      ],
      "metadata": {
        "id": "yawyzdY1Kgvy"
      },
      "execution_count": 12,
      "outputs": []
    },
    {
      "cell_type": "code",
      "source": [
        "#Examining word counts after removal of stop words\n",
        "\n",
        "lengths = [len(question) for question in filtered_questions]\n",
        "plt.hist(lengths, bins = 25)\n",
        "plt.show()\n",
        "\n",
        "print('Mean word count of questions is %s' % np.mean(lengths))"
      ],
      "metadata": {
        "colab": {
          "base_uri": "https://localhost:8080/",
          "height": 282
        },
        "id": "SdmobIBcKkas",
        "outputId": "55ead9fe-14d8-4d8f-be65-b26a09e76071"
      },
      "execution_count": 13,
      "outputs": [
        {
          "output_type": "display_data",
          "data": {
            "image/png": "[encoded data removed]",
            "text/plain": [
              "<Figure size 432x288 with 1 Axes>"
            ]
          },
          "metadata": {
            "needs_background": "light"
          }
        },
        {
          "output_type": "stream",
          "name": "stdout",
          "text": [
            "Mean word count of questions is 43.86006666666667\n"
          ]
        }
      ]
    },
    {
      "cell_type": "code",
      "source": [
        "len(filtered_questions)"
      ],
      "metadata": {
        "colab": {
          "base_uri": "https://localhost:8080/"
        },
        "id": "4efaWKSJKtUZ",
        "outputId": "8b31f5c9-8f8f-41bd-fa1d-b63e3d7259d7"
      },
      "execution_count": 14,
      "outputs": [
        {
          "output_type": "execute_result",
          "data": {
            "text/plain": [
              "30000"
            ]
          },
          "metadata": {},
          "execution_count": 14
        }
      ]
    },
    {
      "cell_type": "markdown",
      "source": [
        "Doc2Vec improves on simple averaging method by training a 'document' vector along the word vectors. As in Word2Vec there are two algortihms available to train the model, but I will be using the 'distributed memory' (that's why dm=1 in my model). It trains a model which predicts a word based on its context, by averaging the context word and paragraph ID vectors"
      ],
      "metadata": {
        "id": "IGNILHAcSO0u"
      }
    },
    {
      "cell_type": "code",
      "source": [
        "n=100\n",
        "from gensim.models.doc2vec import Doc2Vec, TaggedDocument\n",
        "\n",
        "documents = [TaggedDocument(doc, [i]) for i, doc in enumerate(filtered_questions)]\n",
        "model = Doc2Vec(documents, vector_size=n, window=8, min_count=5, workers=2, dm = 1, epochs=20)"
      ],
      "metadata": {
        "id": "KYvUdQIBSPfA"
      },
      "execution_count": 16,
      "outputs": []
    },
    {
      "cell_type": "code",
      "source": [
        "print(question_list[42], ' \\nis similar to \\n')\n",
        "print([question_list[similar[0]] for similar in model.docvecs.most_similar(42)])"
      ],
      "metadata": {
        "colab": {
          "base_uri": "https://localhost:8080/"
        },
        "id": "YCdjL1RaSXGi",
        "outputId": "aa5de029-779d-4892-99b5-011ef1dc3b5e"
      },
      "execution_count": 17,
      "outputs": [
        {
          "output_type": "stream",
          "name": "stdout",
          "text": [
            "What's the best way to sanitise user input for a Python-based web application? Is there a single function to remove HTML characters and any other necessary characters combinations to prevent an XSS or SQL injection attack?  \n",
            "is similar to \n",
            "\n",
            "['What is the easiest way to strip all html/javascript from a string?', 'I want to use sqlite memory database for all my testing and Postgresql for my development/production server. But the SQL syntax is not same in both dbs. for ex: SQLite has autoincrement, and Postgresql has serial  Is it easy to port the SQL script from sqlite to postgresql... what are your solutions? If you want me to use standard SQL, how should I go about generating primary key in both the databases?', 'and  a.html:', \"How do I force Python's print function to output to the screen?\", 'I have a script that loops through a series of four (or less) characters strings.  For example: If have been able to implement it with nested for loops like so: Is this sort of loop nesting a bad thing, and if so, what would be a better way of accomplishing what I am doing?', 'How do you convert a string (for example, input from a textbox) into a proper function?', 'I have a Python function in which I am doing some sanitisation of the input parameters: This caters for the arguments being passed as None rather than empty strings. Is there an easier/more concise way to loop round the function parameters to apply such an expression to all of them. My actual function has nine parameters.', 'I am building a relatively simple Django application and apart from the main page where most of the dynamic parts of the application are, there are a few pages that I will need that will not be dynamic at all (About, FAQ, etc.). What is the best way to integrate these into Django, idealing still using the Django template engine? Should I just create a template for each and then have a view that simply renders that template?', \"I have a function with a new improved version of the code for automatic table indexing: While the query 'getIndexMySQLQuery' works fine with this syntax, the other one 'updateIndexMySQLQuery' doesn't work. Any hints or suggestion how to get that fixed? All comments and suggestions are highly appreciated.\", \"What's the easiest way to do a case-insensitive string replacement in Python?\"]\n"
          ]
        }
      ]
    },
    {
      "cell_type": "code",
      "source": [
        ""
      ],
      "metadata": {
        "id": "SQjUH9ZRSfNI"
      },
      "execution_count": null,
      "outputs": []
    }
  ]
}